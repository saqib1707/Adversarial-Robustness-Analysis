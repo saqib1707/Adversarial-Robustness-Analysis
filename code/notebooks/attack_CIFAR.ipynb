{
 "cells": [
  {
   "cell_type": "code",
   "execution_count": 1,
   "id": "25f49d30",
   "metadata": {},
   "outputs": [],
   "source": [
    "import os\n",
    "import numpy as np\n",
    "import matplotlib.pyplot as plt\n",
    "plt.rcParams.update({'font.size': 14})\n",
    "\n",
    "import torch\n",
    "import torch.nn as nn\n",
    "\n",
    "import torchvision.transforms as transforms\n",
    "import torchvision.datasets as TVdatasets\n",
    "\n",
    "import torchattacks\n",
    "\n",
    "from tqdm.notebook import tqdm"
   ]
  },
  {
   "cell_type": "markdown",
   "id": "4337a39c",
   "metadata": {},
   "source": [
    "### Define device type"
   ]
  },
  {
   "cell_type": "code",
   "execution_count": 2,
   "id": "54f4949b",
   "metadata": {},
   "outputs": [],
   "source": [
    "# define device type - cuda or cpu\n",
    "device = torch.device(\"cuda\" if torch.cuda.is_available() else \"cpu\")\n",
    "kwargs = {'num_workers': 2, 'pin_memory': True} if device == torch.device(\"cuda\") else {}"
   ]
  },
  {
   "cell_type": "markdown",
   "id": "cc5eb470",
   "metadata": {},
   "source": [
    "### Load CIFAR-10 data"
   ]
  },
  {
   "cell_type": "code",
   "execution_count": 3,
   "id": "83eecc9d",
   "metadata": {},
   "outputs": [],
   "source": [
    "def load_CIFAR10_data(train_batch_size, test_batch_size, kwargs):\n",
    "    cifar10_transform = transforms.Compose([transforms.ToTensor(),\n",
    "                                           transforms.Normalize((0.5,0.5,0.5), (0.5,0.5,0.5))])\n",
    "\n",
    "    cifar10_train_data = TVdatasets.CIFAR10(root=\"../data/\", \n",
    "                                            train=True, \n",
    "                                            download=True, \n",
    "                                            transform=cifar10_transform)\n",
    "\n",
    "    cifar10_test_data = TVdatasets.CIFAR10(root=\"../data/\", \n",
    "                                           train=False, \n",
    "                                           download=True, \n",
    "                                           transform=cifar10_transform)\n",
    "\n",
    "    print(\"Number of train samples:\", len(cifar10_train_data))\n",
    "    print(\"Number of test samples:\", len(cifar10_test_data))\n",
    "\n",
    "    trainloader = torch.utils.data.DataLoader(dataset=cifar10_train_data,\n",
    "                                             batch_size=train_batch_size,\n",
    "                                             shuffle=True,\n",
    "                                             **kwargs)\n",
    "\n",
    "    testloader = torch.utils.data.DataLoader(dataset=cifar10_test_data,\n",
    "                                             batch_size=test_batch_size,\n",
    "                                             shuffle=False,\n",
    "                                            **kwargs)\n",
    "    \n",
    "    return trainloader, testloader"
   ]
  },
  {
   "cell_type": "markdown",
   "id": "cf9de4c5",
   "metadata": {},
   "source": [
    "### Model definition"
   ]
  },
  {
   "cell_type": "code",
   "execution_count": 8,
   "id": "8385448b",
   "metadata": {},
   "outputs": [],
   "source": [
    "class CNN_net(nn.Module):\n",
    "    def __init__(self):\n",
    "        super(CNN_net, self).__init__()\n",
    "        \n",
    "        self.conv_layer = nn.Sequential(\n",
    "            nn.Conv2d(3, 32, 5),\n",
    "            nn.ReLU(),\n",
    "            nn.BatchNorm2d(32),\n",
    "            nn.MaxPool2d(2,2),\n",
    "            nn.Conv2d(32, 64, 5),\n",
    "            nn.BatchNorm2d(64),\n",
    "            nn.ReLU(),\n",
    "            nn.MaxPool2d(2,2)\n",
    "        )\n",
    "\n",
    "        self.fc_layer = nn.Sequential(\n",
    "            nn.Linear(64 * 5 * 5, 256),\n",
    "            nn.ReLU(),\n",
    "            nn.Linear(256, 64),\n",
    "            nn.ReLU(),\n",
    "            nn.Linear(64, 10)    \n",
    "        )\n",
    "        \n",
    "    def forward(self, x):\n",
    "        out = self.conv_layer(x)\n",
    "        out = out.view(-1, 64*5*5)\n",
    "        out = self.fc_layer(out)\n",
    "        \n",
    "        return out"
   ]
  },
  {
   "cell_type": "markdown",
   "id": "44866501",
   "metadata": {},
   "source": [
    "### Adversarial Training Process"
   ]
  },
  {
   "cell_type": "code",
   "execution_count": 6,
   "id": "ee27b04d",
   "metadata": {},
   "outputs": [],
   "source": [
    "def adversarial_training(model, trainloader, attack, num_epochs, stepsize):\n",
    "    loss = nn.CrossEntropyLoss()\n",
    "    optimizer = torch.optim.Adam(model.parameters(), lr=stepsize)\n",
    "    \n",
    "    num_batches = len(trainloader)\n",
    "    loss_lst = []\n",
    "\n",
    "    for epoch in range(num_epochs):\n",
    "        for itr, (batch_imgs, batch_labels) in enumerate(tqdm(trainloader)):\n",
    "            batch_imgs = batch_imgs.to(device)\n",
    "            batch_labels = batch_labels.to(device)\n",
    "\n",
    "            batch_adv_imgs = pgd_attack(batch_imgs, batch_labels)\n",
    "\n",
    "            X_train = torch.cat((batch_adv_imgs, batch_imgs), 0)   \n",
    "            Y_train_gt = torch.cat((batch_labels, batch_labels), 0)\n",
    "\n",
    "    #         X_train = batch_imgs\n",
    "    #         Y_train_gt = batch_labels\n",
    "\n",
    "            Y_train_pred = model(X_train)\n",
    "            loss_val = loss(Y_train_pred, Y_train_gt)\n",
    "\n",
    "            optimizer.zero_grad()\n",
    "            loss_val.backward()\n",
    "            optimizer.step()\n",
    "\n",
    "            if (itr + 1) % 100 == 0:\n",
    "                print(\"Epoch [{}/{}], Iteration [{}/{}], Loss:{}\".format(epoch+1, num_epochs, \n",
    "                                                                            itr+1, num_batches, \n",
    "                                                                            round(loss_val.item(),4)))\n",
    "\n",
    "            loss_lst.append(loss_val.item())\n",
    "    \n",
    "    plt.figure(figsize=(10,7))\n",
    "    plt.plot(loss_lst)\n",
    "    plt.xlabel(\"iteration\")\n",
    "    plt.ylabel(\"objective function\")\n",
    "    plt.grid()\n",
    "    plt.show()\n",
    "\n",
    "    model_save_path = '../saved_models/cifar10_net.pth'\n",
    "    torch.save(model.state_dict(), model_save_path)"
   ]
  },
  {
   "cell_type": "markdown",
   "id": "6018131e",
   "metadata": {},
   "source": [
    "### Load model and data"
   ]
  },
  {
   "cell_type": "code",
   "execution_count": 9,
   "id": "cb04df2c",
   "metadata": {},
   "outputs": [
    {
     "name": "stdout",
     "output_type": "stream",
     "text": [
      "Files already downloaded and verified\n",
      "Files already downloaded and verified\n",
      "Number of train samples: 50000\n",
      "Number of test samples: 10000\n"
     ]
    }
   ],
   "source": [
    "train_batch_size = 32\n",
    "test_batch_size = 32\n",
    "\n",
    "model = CNN_net().to(device)\n",
    "# model.load_state_dict(torch.load(\"./checkpoint/holdout.pth\"))\n",
    "# model = model.eval().cuda()\n",
    "\n",
    "trainloader, testloader = load_CIFAR10_data(train_batch_size, test_batch_size, kwargs)"
   ]
  },
  {
   "cell_type": "markdown",
   "id": "406b881e",
   "metadata": {},
   "source": [
    "### Define attack model"
   ]
  },
  {
   "cell_type": "code",
   "execution_count": 10,
   "id": "6d2bd13e",
   "metadata": {},
   "outputs": [],
   "source": [
    "adv_eps = 8/255\n",
    "adv_pgd_steps = 10\n",
    "\n",
    "pgd_attack = torchattacks.PGD(model, eps=adv_eps, alpha=2/255, steps=adv_pgd_steps)\n",
    "fgsm_attack = torchattacks.FGSM(model, eps=adv_eps)"
   ]
  },
  {
   "cell_type": "code",
   "execution_count": 11,
   "id": "b27f6714",
   "metadata": {},
   "outputs": [],
   "source": [
    "# pgd_attack = torchattacks.PGD(model, eps=8/255, alpha=2/255, steps=10)\n",
    "# pgd_attack.set_return_type('int')\n",
    "# pgd_attack.save(data_loader=testloader, save_path=\"./data/cifar10_pgd.pt\", verbose=True)"
   ]
  },
  {
   "cell_type": "code",
   "execution_count": 12,
   "id": "9701a5dd",
   "metadata": {},
   "outputs": [],
   "source": [
    "# adv_imgs, adv_labels = torch.load(\"./data/cifar10_pgd.pt\")\n",
    "# adv_data = TensorDataset(adv_imgs.float() / 255.0, adv_labels)\n",
    "# adv_loader = torch.utils.data.DataLoader(adv_data, batch_size=128, shuffle=False)"
   ]
  },
  {
   "cell_type": "markdown",
   "id": "538abc77",
   "metadata": {},
   "source": [
    "### Adversarial Training"
   ]
  },
  {
   "cell_type": "code",
   "execution_count": 13,
   "id": "7986de49",
   "metadata": {},
   "outputs": [
    {
     "data": {
      "application/vnd.jupyter.widget-view+json": {
       "model_id": "231826d68af842b6a0d2695798a83fb7",
       "version_major": 2,
       "version_minor": 0
      },
      "text/plain": [
       "  0%|          | 0/1563 [00:00<?, ?it/s]"
      ]
     },
     "metadata": {},
     "output_type": "display_data"
    },
    {
     "name": "stdout",
     "output_type": "stream",
     "text": [
      "Epoch [1/5], Iteration [100/1563], Loss:1.9118\n",
      "Epoch [1/5], Iteration [200/1563], Loss:1.8114\n",
      "Epoch [1/5], Iteration [300/1563], Loss:1.505\n",
      "Epoch [1/5], Iteration [400/1563], Loss:1.8964\n",
      "Epoch [1/5], Iteration [500/1563], Loss:1.9425\n",
      "Epoch [1/5], Iteration [600/1563], Loss:1.5345\n",
      "Epoch [1/5], Iteration [700/1563], Loss:1.6475\n",
      "Epoch [1/5], Iteration [800/1563], Loss:1.7871\n",
      "Epoch [1/5], Iteration [900/1563], Loss:1.2852\n",
      "Epoch [1/5], Iteration [1000/1563], Loss:1.6328\n",
      "Epoch [1/5], Iteration [1100/1563], Loss:1.5498\n",
      "Epoch [1/5], Iteration [1200/1563], Loss:1.4162\n",
      "Epoch [1/5], Iteration [1300/1563], Loss:1.4956\n",
      "Epoch [1/5], Iteration [1400/1563], Loss:1.5655\n",
      "Epoch [1/5], Iteration [1500/1563], Loss:1.4077\n"
     ]
    },
    {
     "data": {
      "application/vnd.jupyter.widget-view+json": {
       "model_id": "b125404742154ef18da2630e1c441c47",
       "version_major": 2,
       "version_minor": 0
      },
      "text/plain": [
       "  0%|          | 0/1563 [00:00<?, ?it/s]"
      ]
     },
     "metadata": {},
     "output_type": "display_data"
    },
    {
     "name": "stdout",
     "output_type": "stream",
     "text": [
      "Epoch [2/5], Iteration [100/1563], Loss:1.3589\n",
      "Epoch [2/5], Iteration [200/1563], Loss:1.7272\n",
      "Epoch [2/5], Iteration [300/1563], Loss:1.4592\n",
      "Epoch [2/5], Iteration [400/1563], Loss:1.4477\n",
      "Epoch [2/5], Iteration [500/1563], Loss:1.2064\n",
      "Epoch [2/5], Iteration [600/1563], Loss:1.6314\n",
      "Epoch [2/5], Iteration [700/1563], Loss:1.7045\n",
      "Epoch [2/5], Iteration [800/1563], Loss:1.1912\n",
      "Epoch [2/5], Iteration [900/1563], Loss:1.4219\n",
      "Epoch [2/5], Iteration [1000/1563], Loss:1.3285\n",
      "Epoch [2/5], Iteration [1100/1563], Loss:1.5408\n",
      "Epoch [2/5], Iteration [1200/1563], Loss:1.667\n",
      "Epoch [2/5], Iteration [1300/1563], Loss:1.2589\n",
      "Epoch [2/5], Iteration [1400/1563], Loss:1.242\n",
      "Epoch [2/5], Iteration [1500/1563], Loss:1.255\n"
     ]
    },
    {
     "data": {
      "application/vnd.jupyter.widget-view+json": {
       "model_id": "4e561c5f02834a24aba83efeb91aa59d",
       "version_major": 2,
       "version_minor": 0
      },
      "text/plain": [
       "  0%|          | 0/1563 [00:00<?, ?it/s]"
      ]
     },
     "metadata": {},
     "output_type": "display_data"
    },
    {
     "name": "stdout",
     "output_type": "stream",
     "text": [
      "Epoch [3/5], Iteration [100/1563], Loss:1.4616\n",
      "Epoch [3/5], Iteration [200/1563], Loss:1.2646\n",
      "Epoch [3/5], Iteration [300/1563], Loss:1.4189\n",
      "Epoch [3/5], Iteration [400/1563], Loss:1.2719\n",
      "Epoch [3/5], Iteration [500/1563], Loss:1.5972\n",
      "Epoch [3/5], Iteration [600/1563], Loss:1.3947\n",
      "Epoch [3/5], Iteration [700/1563], Loss:1.3549\n",
      "Epoch [3/5], Iteration [800/1563], Loss:1.3335\n",
      "Epoch [3/5], Iteration [900/1563], Loss:1.3112\n",
      "Epoch [3/5], Iteration [1000/1563], Loss:1.0926\n",
      "Epoch [3/5], Iteration [1100/1563], Loss:1.1605\n",
      "Epoch [3/5], Iteration [1200/1563], Loss:1.3441\n",
      "Epoch [3/5], Iteration [1300/1563], Loss:1.3095\n",
      "Epoch [3/5], Iteration [1400/1563], Loss:1.1173\n",
      "Epoch [3/5], Iteration [1500/1563], Loss:1.2851\n"
     ]
    },
    {
     "data": {
      "application/vnd.jupyter.widget-view+json": {
       "model_id": "205d920cc24e400fb8c4fc2e85930258",
       "version_major": 2,
       "version_minor": 0
      },
      "text/plain": [
       "  0%|          | 0/1563 [00:00<?, ?it/s]"
      ]
     },
     "metadata": {},
     "output_type": "display_data"
    },
    {
     "name": "stdout",
     "output_type": "stream",
     "text": [
      "Epoch [4/5], Iteration [100/1563], Loss:1.6312\n",
      "Epoch [4/5], Iteration [200/1563], Loss:1.2717\n",
      "Epoch [4/5], Iteration [300/1563], Loss:1.1208\n",
      "Epoch [4/5], Iteration [400/1563], Loss:1.3447\n",
      "Epoch [4/5], Iteration [500/1563], Loss:1.5006\n",
      "Epoch [4/5], Iteration [600/1563], Loss:0.9425\n",
      "Epoch [4/5], Iteration [700/1563], Loss:1.3054\n",
      "Epoch [4/5], Iteration [800/1563], Loss:1.335\n",
      "Epoch [4/5], Iteration [900/1563], Loss:1.271\n",
      "Epoch [4/5], Iteration [1000/1563], Loss:1.2033\n",
      "Epoch [4/5], Iteration [1100/1563], Loss:1.2856\n",
      "Epoch [4/5], Iteration [1200/1563], Loss:1.0153\n",
      "Epoch [4/5], Iteration [1300/1563], Loss:1.3427\n",
      "Epoch [4/5], Iteration [1400/1563], Loss:1.0262\n",
      "Epoch [4/5], Iteration [1500/1563], Loss:1.2097\n"
     ]
    },
    {
     "data": {
      "application/vnd.jupyter.widget-view+json": {
       "model_id": "1686b7bdde934fc1a7cd59442e0ba40d",
       "version_major": 2,
       "version_minor": 0
      },
      "text/plain": [
       "  0%|          | 0/1563 [00:00<?, ?it/s]"
      ]
     },
     "metadata": {},
     "output_type": "display_data"
    },
    {
     "name": "stdout",
     "output_type": "stream",
     "text": [
      "Epoch [5/5], Iteration [100/1563], Loss:1.3548\n",
      "Epoch [5/5], Iteration [200/1563], Loss:1.5967\n",
      "Epoch [5/5], Iteration [300/1563], Loss:1.3355\n",
      "Epoch [5/5], Iteration [400/1563], Loss:1.3902\n",
      "Epoch [5/5], Iteration [500/1563], Loss:1.3313\n",
      "Epoch [5/5], Iteration [600/1563], Loss:0.9884\n",
      "Epoch [5/5], Iteration [700/1563], Loss:0.9408\n",
      "Epoch [5/5], Iteration [800/1563], Loss:1.0771\n",
      "Epoch [5/5], Iteration [900/1563], Loss:1.0362\n",
      "Epoch [5/5], Iteration [1000/1563], Loss:1.3211\n",
      "Epoch [5/5], Iteration [1100/1563], Loss:1.474\n",
      "Epoch [5/5], Iteration [1200/1563], Loss:1.5399\n",
      "Epoch [5/5], Iteration [1300/1563], Loss:1.354\n",
      "Epoch [5/5], Iteration [1400/1563], Loss:0.9182\n",
      "Epoch [5/5], Iteration [1500/1563], Loss:1.0243\n"
     ]
    },
    {
     "data": {
      "image/png": "[encoded data removed]",
      "text/plain": [
       "<Figure size 720x504 with 1 Axes>"
      ]
     },
     "metadata": {
      "needs_background": "light"
     },
     "output_type": "display_data"
    }
   ],
   "source": [
    "adversarial_training(model, trainloader, pgd_attack, num_epochs=5, stepsize=1e-3)"
   ]
  },
  {
   "cell_type": "markdown",
   "id": "9af9930b",
   "metadata": {},
   "source": [
    "### Test accuracy (standard clean)"
   ]
  },
  {
   "cell_type": "code",
   "execution_count": 14,
   "id": "0ea7533f",
   "metadata": {},
   "outputs": [
    {
     "data": {
      "application/vnd.jupyter.widget-view+json": {
       "model_id": "ee5b984ffb144a6c89308fa9956781d3",
       "version_major": 2,
       "version_minor": 0
      },
      "text/plain": [
       "  0%|          | 0/313 [00:00<?, ?it/s]"
      ]
     },
     "metadata": {},
     "output_type": "display_data"
    },
    {
     "name": "stdout",
     "output_type": "stream",
     "text": [
      "Standard clean accuracy: 70.42 %\n"
     ]
    }
   ],
   "source": [
    "num_samples = 0\n",
    "num_corr_pred = 0\n",
    "model.eval()\n",
    "\n",
    "with torch.no_grad():\n",
    "    for itr, (batch_imgs, batch_labels) in enumerate(tqdm(testloader)):\n",
    "        batch_imgs = batch_imgs.to(device)\n",
    "        batch_labels = batch_labels.to(device)\n",
    "#         print(batch_imgs.shape, batch_labels.shape)\n",
    "\n",
    "        X_test = batch_imgs\n",
    "        Y_test_gt = batch_labels\n",
    "\n",
    "        _, Y_test_pred = torch.max(model(X_test), dim=1)\n",
    "\n",
    "        num_samples += batch_imgs.shape[0]\n",
    "        num_corr_pred += (Y_test_pred == Y_test_gt).sum()\n",
    "\n",
    "test_accuracy = round(100.0 * float(num_corr_pred) / num_samples, 4)\n",
    "print(\"Standard clean accuracy: {} %\".format(test_accuracy))"
   ]
  },
  {
   "cell_type": "markdown",
   "id": "d55eb230",
   "metadata": {},
   "source": [
    "### Test accuracy (PGD attack)"
   ]
  },
  {
   "cell_type": "code",
   "execution_count": 15,
   "id": "eb6d430b",
   "metadata": {},
   "outputs": [
    {
     "data": {
      "application/vnd.jupyter.widget-view+json": {
       "model_id": "9b31bd14655640f8b6de76af8c9f35c4",
       "version_major": 2,
       "version_minor": 0
      },
      "text/plain": [
       "  0%|          | 0/313 [00:00<?, ?it/s]"
      ]
     },
     "metadata": {},
     "output_type": "display_data"
    },
    {
     "name": "stdout",
     "output_type": "stream",
     "text": [
      "Robust accuracy (PGD attack): 38.14 %\n"
     ]
    }
   ],
   "source": [
    "num_samples = 0\n",
    "num_corr_pred = 0\n",
    "model.eval()\n",
    "\n",
    "# with torch.no_grad():\n",
    "for itr, (batch_imgs, batch_labels) in enumerate(tqdm(testloader)):\n",
    "    batch_imgs = batch_imgs.to(device)\n",
    "    batch_labels = batch_labels.to(device)\n",
    "#     print(batch_imgs.shape, batch_labels.shape)\n",
    "\n",
    "    X_adv_pgd_imgs = pgd_attack(batch_imgs, batch_labels)\n",
    "\n",
    "    X_test = X_adv_pgd_imgs\n",
    "    Y_test_gt = batch_labels\n",
    "\n",
    "    _, Y_test_pred = torch.max(model(X_test), dim=1)\n",
    "\n",
    "    num_samples += batch_imgs.shape[0]\n",
    "    num_corr_pred += (Y_test_pred == Y_test_gt).sum()\n",
    "    \n",
    "test_accuracy = round(100.0 * float(num_corr_pred) / num_samples, 4)\n",
    "print(\"Robust accuracy (PGD attack): {} %\".format(test_accuracy))"
   ]
  },
  {
   "cell_type": "markdown",
   "id": "e47f266b",
   "metadata": {},
   "source": [
    "### Test accuracy (FGSM attack)"
   ]
  },
  {
   "cell_type": "code",
   "execution_count": 16,
   "id": "2f7feed4",
   "metadata": {},
   "outputs": [
    {
     "data": {
      "application/vnd.jupyter.widget-view+json": {
       "model_id": "3663329271d142e9b644ee1e21bd6209",
       "version_major": 2,
       "version_minor": 0
      },
      "text/plain": [
       "  0%|          | 0/313 [00:00<?, ?it/s]"
      ]
     },
     "metadata": {},
     "output_type": "display_data"
    },
    {
     "name": "stdout",
     "output_type": "stream",
     "text": [
      "Robust accuracy (FGSM attack): 46.51 %\n"
     ]
    }
   ],
   "source": [
    "num_samples = 0\n",
    "num_corr_pred = 0\n",
    "model.eval()\n",
    "\n",
    "# with torch.no_grad():\n",
    "for itr, (batch_imgs, batch_labels) in enumerate(tqdm(testloader)):\n",
    "#     batch_imgs = transforms.functional.rgb_to_grayscale(batch_imgs, num_output_channels=1) \n",
    "    batch_imgs = batch_imgs.to(device)\n",
    "    batch_labels = batch_labels.to(device)\n",
    "#     print(batch_imgs.shape, batch_labels.shape)\n",
    "\n",
    "    X_adv_fgsm_imgs = fgsm_attack(batch_imgs, batch_labels)\n",
    "\n",
    "    X_test = X_adv_fgsm_imgs\n",
    "    Y_test_gt = batch_labels\n",
    "\n",
    "    _, Y_test_pred = torch.max(model(X_test), dim=1)\n",
    "\n",
    "    num_samples += batch_imgs.shape[0]\n",
    "    num_corr_pred += (Y_test_pred == Y_test_gt).sum()\n",
    "    \n",
    "test_accuracy = round(100.0 * float(num_corr_pred) / num_samples, 4)\n",
    "print(\"Robust accuracy (FGSM attack): {} %\".format(test_accuracy))"
   ]
  },
  {
   "cell_type": "markdown",
   "id": "73c277e3",
   "metadata": {},
   "source": [
    "### Test accuracy (FGSM + PGD attack)"
   ]
  },
  {
   "cell_type": "code",
   "execution_count": 17,
   "id": "11e81648",
   "metadata": {},
   "outputs": [
    {
     "data": {
      "application/vnd.jupyter.widget-view+json": {
       "model_id": "ed1ef10aaa1049a0a4f3d0d605072686",
       "version_major": 2,
       "version_minor": 0
      },
      "text/plain": [
       "  0%|          | 0/313 [00:00<?, ?it/s]"
      ]
     },
     "metadata": {},
     "output_type": "display_data"
    },
    {
     "name": "stdout",
     "output_type": "stream",
     "text": [
      "Robust accuracy (FGSM + PGD attack): 42.31 %\n"
     ]
    }
   ],
   "source": [
    "num_samples = 0\n",
    "num_corr_pred = 0\n",
    "model.eval()\n",
    "\n",
    "for itr, (batch_imgs, batch_labels) in enumerate(tqdm(testloader)):\n",
    "    batch_imgs = batch_imgs.to(device)\n",
    "    batch_labels = batch_labels.to(device)\n",
    "    \n",
    "    X_adv_fgsm_imgs = fgsm_attack(batch_imgs, batch_labels)\n",
    "    X_adv_pgd_imgs = pgd_attack(batch_imgs, batch_labels)\n",
    "    \n",
    "    X_test = torch.cat((X_adv_fgsm_imgs, X_adv_pgd_imgs), 0)\n",
    "    Y_test_gt = torch.cat((batch_labels, batch_labels), 0)\n",
    "    \n",
    "    _, Y_test_pred = torch.max(model(X_test), dim=1)\n",
    "\n",
    "    num_samples += Y_test_gt.shape[0]\n",
    "    num_corr_pred += (Y_test_pred == Y_test_gt).sum()\n",
    "\n",
    "test_accuracy = round(100.0 * float(num_corr_pred) / num_samples, 4)\n",
    "print(\"Robust accuracy (FGSM + PGD attack): {} %\".format(test_accuracy))"
   ]
  }
 ],
 "metadata": {
  "kernelspec": {
   "display_name": "Python 3",
   "language": "python",
   "name": "python3"
  },
  "language_info": {
   "codemirror_mode": {
    "name": "ipython",
    "version": 3
   },
   "file_extension": ".py",
   "mimetype": "text/x-python",
   "name": "python",
   "nbconvert_exporter": "python",
   "pygments_lexer": "ipython3",
   "version": "3.9.5"
  }
 },
 "nbformat": 4,
 "nbformat_minor": 5
}
