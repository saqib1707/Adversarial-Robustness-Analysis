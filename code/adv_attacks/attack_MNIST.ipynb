{
 "cells": [
  {
   "cell_type": "code",
   "execution_count": 1,
   "id": "25f49d30",
   "metadata": {},
   "outputs": [],
   "source": [
    "import os\n",
    "import numpy as np\n",
    "import matplotlib.pyplot as plt\n",
    "plt.rcParams.update({'font.size': 14})\n",
    "\n",
    "import torch\n",
    "import torch.nn as nn\n",
    "\n",
    "import torchvision.transforms as transforms\n",
    "import torchvision.datasets as TVdatasets\n",
    "\n",
    "import torchattacks\n",
    "# from torchattacks import PGD, FGSM\n",
    "\n",
    "from tqdm.notebook import tqdm"
   ]
  },
  {
   "cell_type": "markdown",
   "id": "0e3a9641",
   "metadata": {},
   "source": [
    "### Define device type"
   ]
  },
  {
   "cell_type": "code",
   "execution_count": 2,
   "id": "0143f175",
   "metadata": {},
   "outputs": [],
   "source": [
    "# define device type - cuda or cpu\n",
    "device = torch.device(\"cuda\" if torch.cuda.is_available() else \"cpu\")\n",
    "kwargs = {'num_workers': 2, 'pin_memory': True} if device == torch.device(\"cuda\") else {}"
   ]
  },
  {
   "cell_type": "markdown",
   "id": "c589f530",
   "metadata": {},
   "source": [
    "### Load MNIST data"
   ]
  },
  {
   "cell_type": "code",
   "execution_count": 3,
   "id": "083981bd",
   "metadata": {},
   "outputs": [],
   "source": [
    "def load_MNIST_data(train_batch_size, test_batch_size, kwargs):\n",
    "    mnist_transform = transforms.Compose([transforms.ToTensor()])\n",
    "\n",
    "    mnist_train_data = TVdatasets.MNIST(root='../data', \n",
    "                                        train=True,\n",
    "                                        transform=mnist_transform,\n",
    "                                        download=True)\n",
    "\n",
    "    mnist_test_data = TVdatasets.MNIST(root='../data',\n",
    "                                      train=False,\n",
    "                                      transform=mnist_transform,\n",
    "                                      download=True)\n",
    "\n",
    "    print(\"Number of train samples:\", len(mnist_train_data))\n",
    "    print(\"Number of test samples:\", len(mnist_test_data))\n",
    "    \n",
    "    trainloader = torch.utils.data.DataLoader(dataset=mnist_train_data,\n",
    "                                             batch_size=train_batch_size,\n",
    "                                             shuffle=True,\n",
    "                                             **kwargs)\n",
    "\n",
    "    testloader = torch.utils.data.DataLoader(dataset=mnist_test_data,\n",
    "                                            batch_size=test_batch_size,\n",
    "                                            shuffle=False,\n",
    "                                            **kwargs)\n",
    "    \n",
    "    return trainloader, testloader"
   ]
  },
  {
   "cell_type": "markdown",
   "id": "ff3417ff",
   "metadata": {},
   "source": [
    "### Model class"
   ]
  },
  {
   "cell_type": "code",
   "execution_count": 4,
   "id": "b5d804e0",
   "metadata": {},
   "outputs": [],
   "source": [
    "class CNN_net(nn.Module):\n",
    "    def __init__(self):\n",
    "        super(CNN_net, self).__init__()\n",
    "        \n",
    "        self.layer = nn.Sequential(\n",
    "            nn.Conv2d(1,16,5), # 16*24*24\n",
    "            nn.ReLU(),\n",
    "            nn.Conv2d(16,32,5), # 32*20*20\n",
    "            nn.ReLU(),\n",
    "            nn.MaxPool2d(2,2), # 32*10*10\n",
    "            nn.Conv2d(32,64,5), # 64*6*6\n",
    "            nn.ReLU(),\n",
    "            nn.MaxPool2d(2,2) #64*3*3\n",
    "        )\n",
    "        \n",
    "        self.fc_layer = nn.Sequential(\n",
    "            nn.Linear(64*3*3,100),\n",
    "            nn.ReLU(),\n",
    "            nn.Linear(100,10)\n",
    "        )       \n",
    "        \n",
    "    def forward(self,x):\n",
    "        out = self.layer(x)\n",
    "        out = out.view(-1,64*3*3)\n",
    "        out = self.fc_layer(out)\n",
    "\n",
    "        return out"
   ]
  },
  {
   "cell_type": "markdown",
   "id": "a65b1399",
   "metadata": {},
   "source": [
    "### Adversarial Training"
   ]
  },
  {
   "cell_type": "code",
   "execution_count": 5,
   "id": "5aa97c40",
   "metadata": {},
   "outputs": [],
   "source": [
    "def adversarial_training(model, trainloader, attack, num_epochs, stepsize):\n",
    "    loss = nn.CrossEntropyLoss()\n",
    "    optimizer = torch.optim.Adam(model.parameters(), lr=stepsize)\n",
    "\n",
    "    num_batches = len(trainloader)\n",
    "    loss_lst = []\n",
    "\n",
    "    for epoch in range(num_epochs):\n",
    "        for itr, (batch_imgs, batch_labels) in enumerate(tqdm(trainloader)):\n",
    "            batch_imgs = batch_imgs.to(device)\n",
    "            batch_labels = batch_labels.to(device)\n",
    "\n",
    "            batch_adv_imgs = attack(batch_imgs, batch_labels)\n",
    "\n",
    "            X_train = torch.cat((batch_adv_imgs, batch_imgs), 0)\n",
    "            Y_train_gt = torch.cat((batch_labels, batch_labels), 0)\n",
    "            Y_train_pred = model(X_train)\n",
    "\n",
    "            loss_val = loss(Y_train_pred, Y_train_gt)\n",
    "\n",
    "            optimizer.zero_grad()\n",
    "            loss_val.backward()\n",
    "            optimizer.step()\n",
    "\n",
    "            if itr % 100 == 0:\n",
    "                print(\"Epoch [{}/{}], Iteration [{}/{}], Loss:{}\".format(epoch+1, num_epochs, \n",
    "                                                                            itr+1, num_batches, \n",
    "                                                                            round(loss_val.item(),4)))\n",
    "\n",
    "            loss_lst.append(loss_val.item())\n",
    "    \n",
    "    plt.figure(figsize=(10,7))\n",
    "    plt.plot(loss_lst)\n",
    "    plt.xlabel(\"iteration\")\n",
    "    plt.ylabel(\"objective function\")\n",
    "    plt.grid()\n",
    "    plt.show()"
   ]
  },
  {
   "cell_type": "markdown",
   "id": "0cec0d8a",
   "metadata": {},
   "source": [
    "### Load model and data"
   ]
  },
  {
   "cell_type": "code",
   "execution_count": 6,
   "id": "954ee78a",
   "metadata": {},
   "outputs": [
    {
     "name": "stdout",
     "output_type": "stream",
     "text": [
      "Number of train samples: 60000\n",
      "Number of test samples: 10000\n"
     ]
    }
   ],
   "source": [
    "train_batch_size = 32\n",
    "test_batch_size = 32\n",
    "\n",
    "model = CNN_net().to(device)\n",
    "\n",
    "trainloader, testloader = load_MNIST_data(train_batch_size, test_batch_size, kwargs)"
   ]
  },
  {
   "cell_type": "markdown",
   "id": "35a87c7d",
   "metadata": {},
   "source": [
    "### Define attack models"
   ]
  },
  {
   "cell_type": "code",
   "execution_count": 7,
   "id": "1579d5ca",
   "metadata": {},
   "outputs": [],
   "source": [
    "adv_eps = 0.3\n",
    "adv_pgd_steps = 10\n",
    "\n",
    "fgsm_attack = torchattacks.FGSM(model, eps=adv_eps)\n",
    "pgd_attack = torchattacks.PGD(model, eps=adv_eps, alpha=0.1, steps=adv_pgd_steps)"
   ]
  },
  {
   "cell_type": "markdown",
   "id": "a381e2ec",
   "metadata": {},
   "source": [
    "### Adversarial Training"
   ]
  },
  {
   "cell_type": "code",
   "execution_count": 8,
   "id": "68b42d3c",
   "metadata": {},
   "outputs": [
    {
     "data": {
      "application/vnd.jupyter.widget-view+json": {
       "model_id": "676822c5bb984e239f9a14b8c755841e",
       "version_major": 2,
       "version_minor": 0
      },
      "text/plain": [
       "  0%|          | 0/1875 [00:00<?, ?it/s]"
      ]
     },
     "metadata": {},
     "output_type": "display_data"
    },
    {
     "name": "stdout",
     "output_type": "stream",
     "text": [
      "Epoch [1/5], Iteration [1/1875], Loss:2.3253\n",
      "Epoch [1/5], Iteration [101/1875], Loss:1.3409\n",
      "Epoch [1/5], Iteration [201/1875], Loss:1.0017\n",
      "Epoch [1/5], Iteration [301/1875], Loss:0.8727\n",
      "Epoch [1/5], Iteration [401/1875], Loss:0.8061\n",
      "Epoch [1/5], Iteration [501/1875], Loss:0.4769\n",
      "Epoch [1/5], Iteration [601/1875], Loss:0.539\n",
      "Epoch [1/5], Iteration [701/1875], Loss:0.4961\n",
      "Epoch [1/5], Iteration [801/1875], Loss:0.6227\n",
      "Epoch [1/5], Iteration [901/1875], Loss:0.4629\n",
      "Epoch [1/5], Iteration [1001/1875], Loss:0.3478\n",
      "Epoch [1/5], Iteration [1101/1875], Loss:0.1655\n",
      "Epoch [1/5], Iteration [1201/1875], Loss:0.2317\n",
      "Epoch [1/5], Iteration [1301/1875], Loss:0.2244\n",
      "Epoch [1/5], Iteration [1401/1875], Loss:0.406\n",
      "Epoch [1/5], Iteration [1501/1875], Loss:0.2275\n",
      "Epoch [1/5], Iteration [1601/1875], Loss:0.0979\n",
      "Epoch [1/5], Iteration [1701/1875], Loss:0.1775\n",
      "Epoch [1/5], Iteration [1801/1875], Loss:0.0802\n"
     ]
    },
    {
     "data": {
      "application/vnd.jupyter.widget-view+json": {
       "model_id": "5513b4e35b5f483493c9b79ffb676493",
       "version_major": 2,
       "version_minor": 0
      },
      "text/plain": [
       "  0%|          | 0/1875 [00:00<?, ?it/s]"
      ]
     },
     "metadata": {},
     "output_type": "display_data"
    },
    {
     "name": "stdout",
     "output_type": "stream",
     "text": [
      "Epoch [2/5], Iteration [1/1875], Loss:0.203\n",
      "Epoch [2/5], Iteration [101/1875], Loss:0.1178\n",
      "Epoch [2/5], Iteration [201/1875], Loss:0.266\n",
      "Epoch [2/5], Iteration [301/1875], Loss:0.0706\n",
      "Epoch [2/5], Iteration [401/1875], Loss:0.1599\n",
      "Epoch [2/5], Iteration [501/1875], Loss:0.1807\n",
      "Epoch [2/5], Iteration [601/1875], Loss:0.2747\n",
      "Epoch [2/5], Iteration [701/1875], Loss:0.2472\n",
      "Epoch [2/5], Iteration [801/1875], Loss:0.1505\n",
      "Epoch [2/5], Iteration [901/1875], Loss:0.0854\n",
      "Epoch [2/5], Iteration [1001/1875], Loss:0.0813\n",
      "Epoch [2/5], Iteration [1101/1875], Loss:0.1713\n",
      "Epoch [2/5], Iteration [1201/1875], Loss:0.0372\n",
      "Epoch [2/5], Iteration [1301/1875], Loss:0.204\n",
      "Epoch [2/5], Iteration [1401/1875], Loss:0.1797\n",
      "Epoch [2/5], Iteration [1501/1875], Loss:0.0305\n",
      "Epoch [2/5], Iteration [1601/1875], Loss:0.0816\n",
      "Epoch [2/5], Iteration [1701/1875], Loss:0.2789\n",
      "Epoch [2/5], Iteration [1801/1875], Loss:0.1558\n"
     ]
    },
    {
     "data": {
      "application/vnd.jupyter.widget-view+json": {
       "model_id": "1c5a2cbd85334f4ab0032aa38a0582c9",
       "version_major": 2,
       "version_minor": 0
      },
      "text/plain": [
       "  0%|          | 0/1875 [00:00<?, ?it/s]"
      ]
     },
     "metadata": {},
     "output_type": "display_data"
    },
    {
     "name": "stdout",
     "output_type": "stream",
     "text": [
      "Epoch [3/5], Iteration [1/1875], Loss:0.1696\n",
      "Epoch [3/5], Iteration [101/1875], Loss:0.0572\n",
      "Epoch [3/5], Iteration [201/1875], Loss:0.0665\n",
      "Epoch [3/5], Iteration [301/1875], Loss:0.1244\n",
      "Epoch [3/5], Iteration [401/1875], Loss:0.0411\n",
      "Epoch [3/5], Iteration [501/1875], Loss:0.1221\n",
      "Epoch [3/5], Iteration [601/1875], Loss:0.2533\n",
      "Epoch [3/5], Iteration [701/1875], Loss:0.0555\n",
      "Epoch [3/5], Iteration [801/1875], Loss:0.0402\n",
      "Epoch [3/5], Iteration [901/1875], Loss:0.2162\n",
      "Epoch [3/5], Iteration [1001/1875], Loss:0.0385\n",
      "Epoch [3/5], Iteration [1101/1875], Loss:0.1789\n",
      "Epoch [3/5], Iteration [1201/1875], Loss:0.114\n",
      "Epoch [3/5], Iteration [1301/1875], Loss:0.3347\n",
      "Epoch [3/5], Iteration [1401/1875], Loss:0.0974\n",
      "Epoch [3/5], Iteration [1501/1875], Loss:0.0392\n",
      "Epoch [3/5], Iteration [1601/1875], Loss:0.0241\n",
      "Epoch [3/5], Iteration [1701/1875], Loss:0.3064\n",
      "Epoch [3/5], Iteration [1801/1875], Loss:0.1532\n"
     ]
    },
    {
     "data": {
      "application/vnd.jupyter.widget-view+json": {
       "model_id": "6e0cf70a68c646e6894314aa2f0856b8",
       "version_major": 2,
       "version_minor": 0
      },
      "text/plain": [
       "  0%|          | 0/1875 [00:00<?, ?it/s]"
      ]
     },
     "metadata": {},
     "output_type": "display_data"
    },
    {
     "name": "stdout",
     "output_type": "stream",
     "text": [
      "Epoch [4/5], Iteration [1/1875], Loss:0.054\n",
      "Epoch [4/5], Iteration [101/1875], Loss:0.1103\n",
      "Epoch [4/5], Iteration [201/1875], Loss:0.1138\n",
      "Epoch [4/5], Iteration [301/1875], Loss:0.1357\n",
      "Epoch [4/5], Iteration [401/1875], Loss:0.0731\n",
      "Epoch [4/5], Iteration [501/1875], Loss:0.0193\n",
      "Epoch [4/5], Iteration [601/1875], Loss:0.0318\n",
      "Epoch [4/5], Iteration [701/1875], Loss:0.0595\n",
      "Epoch [4/5], Iteration [801/1875], Loss:0.081\n",
      "Epoch [4/5], Iteration [901/1875], Loss:0.089\n",
      "Epoch [4/5], Iteration [1001/1875], Loss:0.1308\n",
      "Epoch [4/5], Iteration [1101/1875], Loss:0.0442\n",
      "Epoch [4/5], Iteration [1201/1875], Loss:0.1202\n",
      "Epoch [4/5], Iteration [1301/1875], Loss:0.0808\n",
      "Epoch [4/5], Iteration [1401/1875], Loss:0.0801\n",
      "Epoch [4/5], Iteration [1501/1875], Loss:0.0545\n",
      "Epoch [4/5], Iteration [1601/1875], Loss:0.0247\n",
      "Epoch [4/5], Iteration [1701/1875], Loss:0.1354\n",
      "Epoch [4/5], Iteration [1801/1875], Loss:0.2322\n"
     ]
    },
    {
     "data": {
      "application/vnd.jupyter.widget-view+json": {
       "model_id": "50b594892c27461987c282fcfb1a3c8e",
       "version_major": 2,
       "version_minor": 0
      },
      "text/plain": [
       "  0%|          | 0/1875 [00:00<?, ?it/s]"
      ]
     },
     "metadata": {},
     "output_type": "display_data"
    },
    {
     "name": "stdout",
     "output_type": "stream",
     "text": [
      "Epoch [5/5], Iteration [1/1875], Loss:0.0737\n",
      "Epoch [5/5], Iteration [101/1875], Loss:0.202\n",
      "Epoch [5/5], Iteration [201/1875], Loss:0.0707\n",
      "Epoch [5/5], Iteration [301/1875], Loss:0.1004\n",
      "Epoch [5/5], Iteration [401/1875], Loss:0.0386\n",
      "Epoch [5/5], Iteration [501/1875], Loss:0.0222\n",
      "Epoch [5/5], Iteration [601/1875], Loss:0.088\n",
      "Epoch [5/5], Iteration [701/1875], Loss:0.1196\n",
      "Epoch [5/5], Iteration [801/1875], Loss:0.0335\n",
      "Epoch [5/5], Iteration [901/1875], Loss:0.0433\n",
      "Epoch [5/5], Iteration [1001/1875], Loss:0.2375\n",
      "Epoch [5/5], Iteration [1101/1875], Loss:0.0279\n",
      "Epoch [5/5], Iteration [1201/1875], Loss:0.0105\n",
      "Epoch [5/5], Iteration [1301/1875], Loss:0.0944\n",
      "Epoch [5/5], Iteration [1401/1875], Loss:0.0289\n",
      "Epoch [5/5], Iteration [1501/1875], Loss:0.072\n",
      "Epoch [5/5], Iteration [1601/1875], Loss:0.2045\n",
      "Epoch [5/5], Iteration [1701/1875], Loss:0.0847\n",
      "Epoch [5/5], Iteration [1801/1875], Loss:0.0156\n"
     ]
    },
    {
     "data": {
      "image/png": "[encoded data removed]",
      "text/plain": [
       "<Figure size 720x504 with 1 Axes>"
      ]
     },
     "metadata": {
      "needs_background": "light"
     },
     "output_type": "display_data"
    }
   ],
   "source": [
    "adversarial_training(model, trainloader, pgd_attack, num_epochs=5, stepsize=1e-3)"
   ]
  },
  {
   "cell_type": "markdown",
   "id": "b8171be9",
   "metadata": {},
   "source": [
    "### Test accuracy (standard clean)"
   ]
  },
  {
   "cell_type": "code",
   "execution_count": 9,
   "id": "4013d1a5",
   "metadata": {},
   "outputs": [
    {
     "data": {
      "application/vnd.jupyter.widget-view+json": {
       "model_id": "c442f9ba9ba24af5b9ae4b6b1959c25d",
       "version_major": 2,
       "version_minor": 0
      },
      "text/plain": [
       "  0%|          | 0/313 [00:00<?, ?it/s]"
      ]
     },
     "metadata": {},
     "output_type": "display_data"
    },
    {
     "name": "stdout",
     "output_type": "stream",
     "text": [
      "Standard clean accuracy: 99.19 %\n"
     ]
    }
   ],
   "source": [
    "num_samples = 0\n",
    "num_corr_pred = 0\n",
    "model.eval()\n",
    "\n",
    "with torch.no_grad():\n",
    "    for itr, (batch_imgs, batch_labels) in enumerate(tqdm(testloader)):\n",
    "        X_test = batch_imgs.to(device)\n",
    "        Y_test_gt = batch_labels.to(device)\n",
    "\n",
    "        _, Y_test_pred = torch.max(model(X_test), dim=1)\n",
    "    #     print(Y_test_gt.shape, Y_test_pred.shape)\n",
    "\n",
    "        num_samples += batch_imgs.shape[0]\n",
    "        num_corr_pred += (Y_test_pred == Y_test_gt).sum()\n",
    "\n",
    "test_accuracy = round(100.0 * float(num_corr_pred) / num_samples, 4)\n",
    "print(\"Standard clean accuracy: {} %\".format(test_accuracy))"
   ]
  },
  {
   "cell_type": "markdown",
   "id": "b883e444",
   "metadata": {},
   "source": [
    "### Test accuracy (PGD attack)"
   ]
  },
  {
   "cell_type": "code",
   "execution_count": 10,
   "id": "0bb5ed64",
   "metadata": {},
   "outputs": [
    {
     "data": {
      "application/vnd.jupyter.widget-view+json": {
       "model_id": "9a891dd8a9654549940a0b86b1b22c2f",
       "version_major": 2,
       "version_minor": 0
      },
      "text/plain": [
       "  0%|          | 0/313 [00:00<?, ?it/s]"
      ]
     },
     "metadata": {},
     "output_type": "display_data"
    },
    {
     "name": "stdout",
     "output_type": "stream",
     "text": [
      "Robust accuracy (PGD attack): 94.73 %\n"
     ]
    }
   ],
   "source": [
    "num_samples = 0\n",
    "num_corr_pred = 0\n",
    "model.eval()\n",
    "\n",
    "# with torch.no_grad():\n",
    "for itr, (batch_imgs, batch_labels) in enumerate(tqdm(testloader)):\n",
    "    batch_imgs = batch_imgs.to(device)\n",
    "    batch_labels = batch_labels.to(device)\n",
    "\n",
    "    X_test = pgd_attack(batch_imgs, batch_labels)\n",
    "    Y_test_gt = batch_labels\n",
    "\n",
    "    _, Y_test_pred = torch.max(model(X_test), dim=1)\n",
    "\n",
    "    num_samples += batch_imgs.shape[0]\n",
    "    num_corr_pred += (Y_test_pred == Y_test_gt).sum()\n",
    "\n",
    "test_accuracy = round(100.0 * float(num_corr_pred) / num_samples, 4)\n",
    "print(\"Robust accuracy (PGD attack): {} %\".format(test_accuracy))"
   ]
  },
  {
   "cell_type": "markdown",
   "id": "90f2ced8",
   "metadata": {},
   "source": [
    "### Test accuracy (FGSM attack)"
   ]
  },
  {
   "cell_type": "code",
   "execution_count": 11,
   "id": "72b1c0d5",
   "metadata": {},
   "outputs": [
    {
     "data": {
      "application/vnd.jupyter.widget-view+json": {
       "model_id": "e4b67e95d2a84aa4962b5ad117106933",
       "version_major": 2,
       "version_minor": 0
      },
      "text/plain": [
       "  0%|          | 0/313 [00:00<?, ?it/s]"
      ]
     },
     "metadata": {},
     "output_type": "display_data"
    },
    {
     "name": "stdout",
     "output_type": "stream",
     "text": [
      "Robust accuracy (FGSM attack): 96.93 %\n"
     ]
    }
   ],
   "source": [
    "num_samples = 0\n",
    "num_corr_pred = 0\n",
    "model.eval()\n",
    "\n",
    "# with torch.no_grad():\n",
    "for itr, (batch_imgs, batch_labels) in enumerate(tqdm(testloader)):\n",
    "    batch_imgs = batch_imgs.to(device)\n",
    "    batch_labels = batch_labels.to(device)\n",
    "#     print(batch_imgs.shape, batch_labels.shape)\n",
    "\n",
    "    X_test = fgsm_attack(batch_imgs, batch_labels)\n",
    "    Y_test_gt = batch_labels\n",
    "\n",
    "    _, Y_test_pred = torch.max(model(X_test), dim=1)\n",
    "\n",
    "    num_samples += batch_imgs.shape[0]\n",
    "    num_corr_pred += (Y_test_pred == Y_test_gt).sum()\n",
    "\n",
    "test_accuracy = round(100.0 * float(num_corr_pred) / num_samples, 4)\n",
    "print(\"Robust accuracy (FGSM attack): {} %\".format(test_accuracy))"
   ]
  },
  {
   "cell_type": "markdown",
   "id": "ef3c11d3",
   "metadata": {},
   "source": [
    "### Test accuracy (FGSM + PGD - attack)"
   ]
  },
  {
   "cell_type": "code",
   "execution_count": 12,
   "id": "2fe07688",
   "metadata": {},
   "outputs": [
    {
     "data": {
      "application/vnd.jupyter.widget-view+json": {
       "model_id": "fd9ef4243b16475f9473ee59ee7f2fb7",
       "version_major": 2,
       "version_minor": 0
      },
      "text/plain": [
       "  0%|          | 0/313 [00:00<?, ?it/s]"
      ]
     },
     "metadata": {},
     "output_type": "display_data"
    },
    {
     "name": "stdout",
     "output_type": "stream",
     "text": [
      "Robust accuracy (FGSM + PGD attack): 95.785 %\n"
     ]
    }
   ],
   "source": [
    "num_samples = 0\n",
    "num_corr_pred = 0\n",
    "model.eval()\n",
    "\n",
    "for itr, (batch_imgs, batch_labels) in enumerate(tqdm(testloader)):\n",
    "    batch_imgs = batch_imgs.to(device)\n",
    "    batch_labels = batch_labels.to(device)\n",
    "    \n",
    "    X_adv_fgsm_imgs = fgsm_attack(batch_imgs, batch_labels)\n",
    "    X_adv_pgd_imgs = pgd_attack(batch_imgs, batch_labels)\n",
    "    \n",
    "    X_test = torch.cat((X_adv_fgsm_imgs, X_adv_pgd_imgs), 0)\n",
    "    Y_test_gt = torch.cat((batch_labels, batch_labels), 0)\n",
    "    \n",
    "    _, Y_test_pred = torch.max(model(X_test), dim=1)\n",
    "\n",
    "    num_samples += Y_test_gt.shape[0]\n",
    "    num_corr_pred += (Y_test_pred == Y_test_gt).sum()\n",
    "\n",
    "test_accuracy = round(100.0 * float(num_corr_pred) / num_samples, 4)\n",
    "print(\"Robust accuracy (FGSM + PGD attack): {} %\".format(test_accuracy))"
   ]
  }
 ],
 "metadata": {
  "kernelspec": {
   "display_name": "Python 3",
   "language": "python",
   "name": "python3"
  },
  "language_info": {
   "codemirror_mode": {
    "name": "ipython",
    "version": 3
   },
   "file_extension": ".py",
   "mimetype": "text/x-python",
   "name": "python",
   "nbconvert_exporter": "python",
   "pygments_lexer": "ipython3",
   "version": "3.9.5"
  }
 },
 "nbformat": 4,
 "nbformat_minor": 5
}
