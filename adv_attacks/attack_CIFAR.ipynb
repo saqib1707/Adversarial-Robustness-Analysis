{
 "cells": [
  {
   "cell_type": "code",
   "execution_count": 1,
   "id": "25f49d30",
   "metadata": {},
   "outputs": [],
   "source": [
    "import os\n",
    "import numpy as np\n",
    "import matplotlib.pyplot as plt\n",
    "plt.rcParams.update({'font.size': 14})\n",
    "\n",
    "import torch\n",
    "import torch.nn as nn\n",
    "\n",
    "import torchvision.transforms as transforms\n",
    "import torchvision.datasets as TVdatasets\n",
    "\n",
    "import torchattacks\n",
    "from torchattacks import PGD, FGSM\n",
    "\n",
    "from tqdm.notebook import tqdm"
   ]
  },
  {
   "cell_type": "markdown",
   "id": "cc5eb470",
   "metadata": {},
   "source": [
    "### Load CIFAR-10 data"
   ]
  },
  {
   "cell_type": "code",
   "execution_count": 4,
   "id": "83eecc9d",
   "metadata": {},
   "outputs": [
    {
     "name": "stdout",
     "output_type": "stream",
     "text": [
      "Files already downloaded and verified\n",
      "Files already downloaded and verified\n",
      "Number of train samples: 50000\n",
      "Number of test samples: 10000\n"
     ]
    }
   ],
   "source": [
    "cifar10_transform = transforms.Compose([transforms.ToTensor(),\n",
    "                                       transforms.Normalize((0.5,0.5,0.5), (0.5,0.5,0.5))])\n",
    "\n",
    "cifar10_train_data = TVdatasets.CIFAR10(root=\"./data/\", \n",
    "                                        train=True, \n",
    "                                        download=True, \n",
    "                                        transform=cifar10_transform)\n",
    "\n",
    "cifar10_test_data = TVdatasets.CIFAR10(root=\"./data/\", \n",
    "                                       train=False, \n",
    "                                       download=True, \n",
    "                                       transform=cifar10_transform)\n",
    "\n",
    "num_train_samples = len(cifar10_train_data)\n",
    "num_test_samples = len(cifar10_test_data)\n",
    "\n",
    "print(\"Number of train samples:\", num_train_samples)\n",
    "print(\"Number of test samples:\", num_test_samples)"
   ]
  },
  {
   "cell_type": "code",
   "execution_count": 5,
   "id": "e5015c04",
   "metadata": {},
   "outputs": [],
   "source": [
    "device = torch.device(\"cuda\" if torch.cuda.is_available() else \"cpu\")\n",
    "kwargs = {'num_workers': 2, 'pin_memory': True} if device=='cuda' else {}\n",
    "\n",
    "train_batch_size = 32\n",
    "test_batch_size = 32\n",
    "\n",
    "trainloader = torch.utils.data.DataLoader(dataset=cifar10_train_data,\n",
    "                                         batch_size=train_batch_size,\n",
    "                                         shuffle=True,\n",
    "                                         **kwargs)\n",
    "\n",
    "testloader = torch.utils.data.DataLoader(dataset=cifar10_test_data,\n",
    "                                         batch_size=test_batch_size,\n",
    "                                         shuffle=False,\n",
    "                                        **kwargs)"
   ]
  },
  {
   "cell_type": "markdown",
   "id": "cf9de4c5",
   "metadata": {},
   "source": [
    "### Model definition"
   ]
  },
  {
   "cell_type": "code",
   "execution_count": 6,
   "id": "8385448b",
   "metadata": {},
   "outputs": [],
   "source": [
    "class Holdout(nn.Module):\n",
    "    def __init__(self):\n",
    "        super(Holdout, self).__init__()\n",
    "        \n",
    "        self.conv_layer = nn.Sequential(\n",
    "            nn.Conv2d(3, 32, 5),\n",
    "            nn.ReLU(),\n",
    "            nn.BatchNorm2d(32),\n",
    "            nn.MaxPool2d(2,2),\n",
    "            nn.Conv2d(32, 64, 5),\n",
    "            nn.BatchNorm2d(64),\n",
    "            nn.ReLU(),\n",
    "            nn.MaxPool2d(2,2)\n",
    "        )\n",
    "\n",
    "        self.fc_layer = nn.Sequential(\n",
    "            nn.Linear(64 * 5 * 5, 256),\n",
    "            nn.ReLU(),\n",
    "            nn.Linear(256, 64),\n",
    "            nn.ReLU(),\n",
    "            nn.Linear(64, 10)    \n",
    "        )\n",
    "        \n",
    "    def forward(self, x):\n",
    "        out = self.conv_layer(x)\n",
    "        out = out.view(-1, 64*5*5)\n",
    "        out = self.fc_layer(out)\n",
    "        \n",
    "        return out\n",
    "\n",
    "model = Holdout().to(device)\n",
    "\n",
    "# model.load_state_dict(torch.load(\"./checkpoint/holdout.pth\"))\n",
    "# model = model.eval().cuda()"
   ]
  },
  {
   "cell_type": "code",
   "execution_count": 7,
   "id": "94162f52",
   "metadata": {},
   "outputs": [],
   "source": [
    "loss = nn.CrossEntropyLoss()\n",
    "optimizer = torch.optim.Adam(model.parameters(), lr=1e-3)"
   ]
  },
  {
   "cell_type": "code",
   "execution_count": 19,
   "id": "6d2bd13e",
   "metadata": {},
   "outputs": [],
   "source": [
    "pgd_attack = PGD(model, eps=8/255, alpha=2/255, steps=10)\n",
    "fgsm_attack = FGSM(model, eps=8/255)"
   ]
  },
  {
   "cell_type": "markdown",
   "id": "44866501",
   "metadata": {},
   "source": [
    "### Training Process"
   ]
  },
  {
   "cell_type": "code",
   "execution_count": 11,
   "id": "ee27b04d",
   "metadata": {},
   "outputs": [
    {
     "data": {
      "application/vnd.jupyter.widget-view+json": {
       "model_id": "d1d5b022945a4728a085d9395f98ed3d",
       "version_major": 2,
       "version_minor": 0
      },
      "text/plain": [
       "  0%|          | 0/1563 [00:00<?, ?it/s]"
      ]
     },
     "metadata": {},
     "output_type": "display_data"
    },
    {
     "name": "stdout",
     "output_type": "stream",
     "text": [
      "Epoch [1/5], Iteration [100/1562], Loss:2.0835\n",
      "Epoch [1/5], Iteration [200/1562], Loss:1.7759\n",
      "Epoch [1/5], Iteration [300/1562], Loss:1.7474\n",
      "Epoch [1/5], Iteration [400/1562], Loss:1.5234\n",
      "Epoch [1/5], Iteration [500/1562], Loss:1.5417\n",
      "Epoch [1/5], Iteration [600/1562], Loss:1.5558\n",
      "Epoch [1/5], Iteration [700/1562], Loss:1.7099\n",
      "Epoch [1/5], Iteration [800/1562], Loss:1.6887\n",
      "Epoch [1/5], Iteration [900/1562], Loss:1.4756\n",
      "Epoch [1/5], Iteration [1000/1562], Loss:1.6947\n",
      "Epoch [1/5], Iteration [1100/1562], Loss:1.4938\n",
      "Epoch [1/5], Iteration [1200/1562], Loss:1.674\n",
      "Epoch [1/5], Iteration [1300/1562], Loss:1.45\n",
      "Epoch [1/5], Iteration [1400/1562], Loss:1.3551\n",
      "Epoch [1/5], Iteration [1500/1562], Loss:1.3495\n"
     ]
    },
    {
     "data": {
      "application/vnd.jupyter.widget-view+json": {
       "model_id": "434ada47c86d472192c2bd445f993d3b",
       "version_major": 2,
       "version_minor": 0
      },
      "text/plain": [
       "  0%|          | 0/1563 [00:00<?, ?it/s]"
      ]
     },
     "metadata": {},
     "output_type": "display_data"
    },
    {
     "name": "stdout",
     "output_type": "stream",
     "text": [
      "Epoch [2/5], Iteration [100/1562], Loss:1.3645\n",
      "Epoch [2/5], Iteration [200/1562], Loss:1.4454\n",
      "Epoch [2/5], Iteration [300/1562], Loss:1.3614\n",
      "Epoch [2/5], Iteration [400/1562], Loss:1.3305\n",
      "Epoch [2/5], Iteration [500/1562], Loss:1.6178\n",
      "Epoch [2/5], Iteration [600/1562], Loss:1.4548\n",
      "Epoch [2/5], Iteration [700/1562], Loss:1.3775\n",
      "Epoch [2/5], Iteration [800/1562], Loss:1.5556\n",
      "Epoch [2/5], Iteration [900/1562], Loss:1.5846\n",
      "Epoch [2/5], Iteration [1000/1562], Loss:1.279\n",
      "Epoch [2/5], Iteration [1100/1562], Loss:1.1097\n",
      "Epoch [2/5], Iteration [1200/1562], Loss:1.6112\n",
      "Epoch [2/5], Iteration [1300/1562], Loss:1.32\n",
      "Epoch [2/5], Iteration [1400/1562], Loss:1.5178\n",
      "Epoch [2/5], Iteration [1500/1562], Loss:1.2391\n"
     ]
    },
    {
     "data": {
      "application/vnd.jupyter.widget-view+json": {
       "model_id": "be9fa7c406ed4b2782ba86404223f334",
       "version_major": 2,
       "version_minor": 0
      },
      "text/plain": [
       "  0%|          | 0/1563 [00:00<?, ?it/s]"
      ]
     },
     "metadata": {},
     "output_type": "display_data"
    },
    {
     "name": "stdout",
     "output_type": "stream",
     "text": [
      "Epoch [3/5], Iteration [100/1562], Loss:1.0028\n",
      "Epoch [3/5], Iteration [200/1562], Loss:1.3801\n",
      "Epoch [3/5], Iteration [300/1562], Loss:1.4742\n",
      "Epoch [3/5], Iteration [400/1562], Loss:1.3959\n",
      "Epoch [3/5], Iteration [500/1562], Loss:1.1894\n",
      "Epoch [3/5], Iteration [600/1562], Loss:1.5773\n",
      "Epoch [3/5], Iteration [700/1562], Loss:1.5924\n",
      "Epoch [3/5], Iteration [800/1562], Loss:1.221\n",
      "Epoch [3/5], Iteration [900/1562], Loss:1.4747\n",
      "Epoch [3/5], Iteration [1000/1562], Loss:1.5864\n",
      "Epoch [3/5], Iteration [1100/1562], Loss:1.1993\n",
      "Epoch [3/5], Iteration [1200/1562], Loss:1.1838\n",
      "Epoch [3/5], Iteration [1300/1562], Loss:1.3551\n",
      "Epoch [3/5], Iteration [1400/1562], Loss:1.3696\n",
      "Epoch [3/5], Iteration [1500/1562], Loss:1.0917\n"
     ]
    },
    {
     "data": {
      "application/vnd.jupyter.widget-view+json": {
       "model_id": "4782b0f1726544beb3d277a69ccb0a76",
       "version_major": 2,
       "version_minor": 0
      },
      "text/plain": [
       "  0%|          | 0/1563 [00:00<?, ?it/s]"
      ]
     },
     "metadata": {},
     "output_type": "display_data"
    },
    {
     "name": "stdout",
     "output_type": "stream",
     "text": [
      "Epoch [4/5], Iteration [100/1562], Loss:1.2181\n",
      "Epoch [4/5], Iteration [200/1562], Loss:0.8677\n",
      "Epoch [4/5], Iteration [300/1562], Loss:1.2618\n",
      "Epoch [4/5], Iteration [400/1562], Loss:1.2204\n",
      "Epoch [4/5], Iteration [500/1562], Loss:1.1484\n",
      "Epoch [4/5], Iteration [600/1562], Loss:1.547\n",
      "Epoch [4/5], Iteration [700/1562], Loss:1.5355\n",
      "Epoch [4/5], Iteration [800/1562], Loss:1.2816\n",
      "Epoch [4/5], Iteration [900/1562], Loss:1.1415\n",
      "Epoch [4/5], Iteration [1000/1562], Loss:1.2195\n",
      "Epoch [4/5], Iteration [1100/1562], Loss:1.0289\n",
      "Epoch [4/5], Iteration [1200/1562], Loss:1.5429\n",
      "Epoch [4/5], Iteration [1300/1562], Loss:1.3513\n",
      "Epoch [4/5], Iteration [1400/1562], Loss:1.1308\n",
      "Epoch [4/5], Iteration [1500/1562], Loss:1.1051\n"
     ]
    },
    {
     "data": {
      "application/vnd.jupyter.widget-view+json": {
       "model_id": "33b21fbb1d944839a070dd756f1c3580",
       "version_major": 2,
       "version_minor": 0
      },
      "text/plain": [
       "  0%|          | 0/1563 [00:00<?, ?it/s]"
      ]
     },
     "metadata": {},
     "output_type": "display_data"
    },
    {
     "name": "stdout",
     "output_type": "stream",
     "text": [
      "Epoch [5/5], Iteration [100/1562], Loss:0.9869\n",
      "Epoch [5/5], Iteration [200/1562], Loss:1.3419\n",
      "Epoch [5/5], Iteration [300/1562], Loss:1.1301\n",
      "Epoch [5/5], Iteration [400/1562], Loss:0.8955\n",
      "Epoch [5/5], Iteration [500/1562], Loss:1.2394\n",
      "Epoch [5/5], Iteration [600/1562], Loss:1.0168\n",
      "Epoch [5/5], Iteration [700/1562], Loss:1.337\n",
      "Epoch [5/5], Iteration [800/1562], Loss:1.3509\n",
      "Epoch [5/5], Iteration [900/1562], Loss:1.062\n",
      "Epoch [5/5], Iteration [1000/1562], Loss:1.6235\n",
      "Epoch [5/5], Iteration [1100/1562], Loss:1.2882\n",
      "Epoch [5/5], Iteration [1200/1562], Loss:1.194\n",
      "Epoch [5/5], Iteration [1300/1562], Loss:1.0386\n",
      "Epoch [5/5], Iteration [1400/1562], Loss:1.0354\n",
      "Epoch [5/5], Iteration [1500/1562], Loss:1.4831\n"
     ]
    }
   ],
   "source": [
    "num_batches = len(cifar10_train_data) // train_batch_size\n",
    "num_epochs = 5\n",
    "loss_lst = []\n",
    "\n",
    "for epoch in range(num_epochs):\n",
    "    for itr, (batch_imgs, batch_labels) in enumerate(tqdm(trainloader)):\n",
    "        batch_imgs = batch_imgs.to(device)\n",
    "        batch_labels = batch_labels.to(device)\n",
    "        \n",
    "        batch_adv_imgs = pgd_attack(batch_imgs, batch_labels)\n",
    "        \n",
    "        X_train = torch.cat((batch_adv_imgs, batch_imgs), 0)   \n",
    "        Y_train_gt = torch.cat((batch_labels, batch_labels), 0)\n",
    "\n",
    "#         X_train = batch_imgs\n",
    "#         Y_train_gt = batch_labels\n",
    "        \n",
    "        Y_train_pred = model(X_train)\n",
    "        loss_val = loss(Y_train_pred, Y_train_gt)\n",
    "        \n",
    "        optimizer.zero_grad()\n",
    "        loss_val.backward()\n",
    "        optimizer.step()\n",
    "        \n",
    "        if (itr + 1) % 100 == 0:\n",
    "            print(\"Epoch [{}/{}], Iteration [{}/{}], Loss:{}\".format(epoch+1, num_epochs, \n",
    "                                                                        itr+1, num_batches, \n",
    "                                                                        round(loss_val.item(),4)))\n",
    "        \n",
    "        loss_lst.append(loss_val.item())\n",
    "\n",
    "model_save_path = './cifar10_net.pth'\n",
    "torch.save(model.state_dict(), model_save_path)"
   ]
  },
  {
   "cell_type": "code",
   "execution_count": 12,
   "id": "8e9eb256",
   "metadata": {},
   "outputs": [
    {
     "data": {
      "image/png": "[encoded data removed]",
      "text/plain": [
       "<Figure size 720x504 with 1 Axes>"
      ]
     },
     "metadata": {
      "needs_background": "light"
     },
     "output_type": "display_data"
    }
   ],
   "source": [
    "plt.figure(figsize=(10,7))\n",
    "plt.plot(loss_lst)\n",
    "plt.xlabel(\"iteration\")\n",
    "plt.ylabel(\"objective function\")\n",
    "plt.grid()\n",
    "plt.show()"
   ]
  },
  {
   "cell_type": "code",
   "execution_count": 13,
   "id": "b27f6714",
   "metadata": {},
   "outputs": [],
   "source": [
    "# pgd_attack = PGD(model, eps=8/255, alpha=2/255, steps=10)\n",
    "# pgd_attack.set_return_type('int')\n",
    "# pgd_attack.save(data_loader=testloader, save_path=\"./data/cifar10_pgd.pt\", verbose=True)"
   ]
  },
  {
   "cell_type": "code",
   "execution_count": 15,
   "id": "9701a5dd",
   "metadata": {},
   "outputs": [],
   "source": [
    "# adv_imgs, adv_labels = torch.load(\"./data/cifar10_pgd.pt\")\n",
    "# adv_data = TensorDataset(adv_imgs.float() / 255.0, adv_labels)\n",
    "# adv_loader = torch.utils.data.DataLoader(adv_data, batch_size=128, shuffle=False)"
   ]
  },
  {
   "cell_type": "markdown",
   "id": "9af9930b",
   "metadata": {},
   "source": [
    "### Test accuracy (standard clean)"
   ]
  },
  {
   "cell_type": "code",
   "execution_count": 16,
   "id": "0ea7533f",
   "metadata": {},
   "outputs": [
    {
     "data": {
      "application/vnd.jupyter.widget-view+json": {
       "model_id": "108c89fb430c4860ba045201c51819ce",
       "version_major": 2,
       "version_minor": 0
      },
      "text/plain": [
       "  0%|          | 0/313 [00:00<?, ?it/s]"
      ]
     },
     "metadata": {},
     "output_type": "display_data"
    },
    {
     "name": "stdout",
     "output_type": "stream",
     "text": [
      "Standard clean accuracy: 69.79 %\n"
     ]
    }
   ],
   "source": [
    "num_corr_pred = 0\n",
    "model.eval()\n",
    "\n",
    "with torch.no_grad():\n",
    "    for itr, (batch_imgs, batch_labels) in enumerate(tqdm(testloader)):\n",
    "        batch_imgs = batch_imgs.to(device)\n",
    "        batch_labels = batch_labels.to(device)\n",
    "#         print(batch_imgs.shape, batch_labels.shape)\n",
    "\n",
    "        X_test = batch_imgs\n",
    "        Y_test_gt = batch_labels\n",
    "\n",
    "        _, Y_test_pred = torch.max(model(X_test), dim=1)\n",
    "\n",
    "        num_corr_pred += (Y_test_pred == Y_test_gt).sum()\n",
    "\n",
    "test_accuracy = round(100.0 * float(num_corr_pred) / num_test_samples, 4)\n",
    "print(\"Standard clean accuracy: {} %\".format(test_accuracy))"
   ]
  },
  {
   "cell_type": "markdown",
   "id": "d55eb230",
   "metadata": {},
   "source": [
    "### Test accuracy (PGD attack)"
   ]
  },
  {
   "cell_type": "code",
   "execution_count": 17,
   "id": "eb6d430b",
   "metadata": {},
   "outputs": [
    {
     "data": {
      "application/vnd.jupyter.widget-view+json": {
       "model_id": "c38601a7edf14d1b8abb0cff0bce0a21",
       "version_major": 2,
       "version_minor": 0
      },
      "text/plain": [
       "  0%|          | 0/313 [00:00<?, ?it/s]"
      ]
     },
     "metadata": {},
     "output_type": "display_data"
    },
    {
     "name": "stdout",
     "output_type": "stream",
     "text": [
      "Robust accuracy (PGD attack): 38.57 %\n"
     ]
    }
   ],
   "source": [
    "num_corr_pred = 0\n",
    "model.eval()\n",
    "\n",
    "# with torch.no_grad():\n",
    "for itr, (batch_imgs, batch_labels) in enumerate(tqdm(testloader)):\n",
    "    batch_imgs = batch_imgs.to(device)\n",
    "    batch_labels = batch_labels.to(device)\n",
    "#     print(batch_imgs.shape, batch_labels.shape)\n",
    "\n",
    "    X_adv_pgd_imgs = pgd_attack(batch_imgs, batch_labels)\n",
    "\n",
    "    X_test = X_adv_pgd_imgs\n",
    "    Y_test_gt = batch_labels\n",
    "\n",
    "    _, Y_test_pred = torch.max(model(X_test), dim=1)\n",
    "\n",
    "    num_corr_pred += (Y_test_pred == Y_test_gt).sum()\n",
    "    \n",
    "test_accuracy = round(100.0 * float(num_corr_pred) / num_test_samples, 4)\n",
    "print(\"Robust accuracy (PGD attack): {} %\".format(test_accuracy))"
   ]
  },
  {
   "cell_type": "markdown",
   "id": "e47f266b",
   "metadata": {},
   "source": [
    "### Test accuracy (FGSM attack)"
   ]
  },
  {
   "cell_type": "code",
   "execution_count": 20,
   "id": "2f7feed4",
   "metadata": {},
   "outputs": [
    {
     "data": {
      "application/vnd.jupyter.widget-view+json": {
       "model_id": "0420d10218204a61917ba7b1a994832d",
       "version_major": 2,
       "version_minor": 0
      },
      "text/plain": [
       "  0%|          | 0/313 [00:00<?, ?it/s]"
      ]
     },
     "metadata": {},
     "output_type": "display_data"
    },
    {
     "name": "stdout",
     "output_type": "stream",
     "text": [
      "Robust accuracy (FGSM attack): 45.9 %\n"
     ]
    }
   ],
   "source": [
    "num_corr_pred = 0\n",
    "model.eval()\n",
    "\n",
    "# with torch.no_grad():\n",
    "for itr, (batch_imgs, batch_labels) in enumerate(tqdm(testloader)):\n",
    "#     batch_imgs = transforms.functional.rgb_to_grayscale(batch_imgs, num_output_channels=1) \n",
    "    batch_imgs = batch_imgs.to(device)\n",
    "    batch_labels = batch_labels.to(device)\n",
    "#     print(batch_imgs.shape, batch_labels.shape)\n",
    "\n",
    "    X_adv_fgsm_imgs = fgsm_attack(batch_imgs, batch_labels)\n",
    "\n",
    "    X_test = X_adv_fgsm_imgs\n",
    "    Y_test_gt = batch_labels\n",
    "\n",
    "    _, Y_test_pred = torch.max(model(X_test), dim=1)\n",
    "\n",
    "    num_corr_pred += (Y_test_pred == Y_test_gt).sum()\n",
    "    \n",
    "test_accuracy = round(100.0 * float(num_corr_pred) / num_test_samples, 4)\n",
    "print(\"Robust accuracy (FGSM attack): {} %\".format(test_accuracy))"
   ]
  },
  {
   "cell_type": "markdown",
   "id": "73c277e3",
   "metadata": {},
   "source": [
    "### Test accuracy (FGSM + PGD attack)"
   ]
  },
  {
   "cell_type": "code",
   "execution_count": 21,
   "id": "11e81648",
   "metadata": {},
   "outputs": [
    {
     "data": {
      "application/vnd.jupyter.widget-view+json": {
       "model_id": "8d1e85d7e01f47a8981d64250ca635d6",
       "version_major": 2,
       "version_minor": 0
      },
      "text/plain": [
       "  0%|          | 0/313 [00:00<?, ?it/s]"
      ]
     },
     "metadata": {},
     "output_type": "display_data"
    },
    {
     "name": "stdout",
     "output_type": "stream",
     "text": [
      "Robust accuracy (FGSM + PGD attack): 0.2326 %\n"
     ]
    }
   ],
   "source": [
    "num_corr_pred = 0\n",
    "model.eval()\n",
    "\n",
    "fgsm_attack = FGSM(model, eps=0.3)\n",
    "\n",
    "for itr, (batch_imgs, batch_labels) in enumerate(tqdm(testloader)):\n",
    "    batch_imgs = batch_imgs.to(device)\n",
    "    batch_labels = batch_labels.to(device)\n",
    "    \n",
    "    X_adv_fgsm_imgs = fgsm_attack(batch_imgs, batch_labels)\n",
    "    X_adv_pgd_imgs = pgd_attack(batch_imgs, batch_labels)\n",
    "    \n",
    "    X_test = torch.cat((X_adv_fgsm_imgs, X_adv_pgd_imgs), 0)\n",
    "    Y_test_gt = torch.cat((batch_labels, batch_labels), 0)\n",
    "    \n",
    "    _, Y_test_pred = torch.max(model(X_test), dim=1)\n",
    "\n",
    "    num_corr_pred += (Y_test_pred == Y_test_gt).sum()\n",
    "\n",
    "test_accuracy = round(0.5 * float(num_corr_pred) / num_test_samples, 4)\n",
    "print(\"Robust accuracy (FGSM + PGD attack): {} %\".format(test_accuracy))"
   ]
  }
 ],
 "metadata": {
  "kernelspec": {
   "display_name": "Python 3",
   "language": "python",
   "name": "python3"
  },
  "language_info": {
   "codemirror_mode": {
    "name": "ipython",
    "version": 3
   },
   "file_extension": ".py",
   "mimetype": "text/x-python",
   "name": "python",
   "nbconvert_exporter": "python",
   "pygments_lexer": "ipython3",
   "version": "3.9.5"
  }
 },
 "nbformat": 4,
 "nbformat_minor": 5
}
