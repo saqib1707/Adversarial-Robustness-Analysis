{
 "cells": [
  {
   "cell_type": "code",
   "execution_count": 9,
   "id": "25f49d30",
   "metadata": {},
   "outputs": [],
   "source": [
    "import os\n",
    "import numpy as np\n",
    "import matplotlib.pyplot as plt\n",
    "plt.rcParams.update({'font.size': 14})\n",
    "\n",
    "import torch\n",
    "import torch.nn as nn\n",
    "\n",
    "import torchvision.transforms as transforms\n",
    "import torchvision.datasets as TVdatasets\n",
    "\n",
    "import torchattacks\n",
    "from torchattacks import PGD, FGSM\n",
    "\n",
    "from tqdm.notebook import tqdm"
   ]
  },
  {
   "cell_type": "markdown",
   "id": "c589f530",
   "metadata": {},
   "source": [
    "### Load MNIST data"
   ]
  },
  {
   "cell_type": "code",
   "execution_count": 2,
   "id": "083981bd",
   "metadata": {},
   "outputs": [
    {
     "name": "stdout",
     "output_type": "stream",
     "text": [
      "Number of train samples: 60000\n",
      "Number of test samples: 10000\n"
     ]
    }
   ],
   "source": [
    "mnist_transform = transforms.Compose([transforms.ToTensor()])\n",
    "\n",
    "mnist_train_data = TVdatasets.MNIST(root='./data', \n",
    "                                    train=True,\n",
    "                                    transform=mnist_transform,\n",
    "                                    download=True)\n",
    "\n",
    "mnist_test_data = TVdatasets.MNIST(root='./data',\n",
    "                                  train=False,\n",
    "                                  transform=mnist_transform,\n",
    "                                  download=True)\n",
    "\n",
    "num_train_samples = len(mnist_train_data)\n",
    "num_test_samples = len(mnist_test_data)\n",
    "\n",
    "print(\"Number of train samples:\", num_train_samples)\n",
    "print(\"Number of test samples:\", num_test_samples)"
   ]
  },
  {
   "cell_type": "code",
   "execution_count": 3,
   "id": "82eda98d",
   "metadata": {},
   "outputs": [],
   "source": [
    "device = torch.device(\"cuda\" if torch.cuda.is_available() else \"cpu\")\n",
    "kwargs = {'num_workers': 2, 'pin_memory': True} if device=='cuda' else {}\n",
    "\n",
    "train_batch_size = 32\n",
    "test_batch_size = 32\n",
    "\n",
    "trainloader = torch.utils.data.DataLoader(dataset=mnist_train_data,\n",
    "                                         batch_size=train_batch_size,\n",
    "                                         shuffle=True,\n",
    "                                         **kwargs)\n",
    "\n",
    "testloader = torch.utils.data.DataLoader(dataset=mnist_test_data,\n",
    "                                        batch_size=test_batch_size,\n",
    "                                        shuffle=False,\n",
    "                                        **kwargs)"
   ]
  },
  {
   "cell_type": "markdown",
   "id": "ff3417ff",
   "metadata": {},
   "source": [
    "### Model class"
   ]
  },
  {
   "cell_type": "code",
   "execution_count": 4,
   "id": "b5d804e0",
   "metadata": {},
   "outputs": [],
   "source": [
    "class CNN(nn.Module):\n",
    "    def __init__(self):\n",
    "        super(CNN, self).__init__()\n",
    "        \n",
    "        self.layer = nn.Sequential(\n",
    "            nn.Conv2d(1,16,5), # 16*24*24\n",
    "            nn.ReLU(),\n",
    "            nn.Conv2d(16,32,5), # 32*20*20\n",
    "            nn.ReLU(),\n",
    "            nn.MaxPool2d(2,2), # 32*10*10\n",
    "            nn.Conv2d(32,64,5), # 64*6*6\n",
    "            nn.ReLU(),\n",
    "            nn.MaxPool2d(2,2) #64*3*3\n",
    "        )\n",
    "        \n",
    "        self.fc_layer = nn.Sequential(\n",
    "            nn.Linear(64*3*3,100),\n",
    "            nn.ReLU(),\n",
    "            nn.Linear(100,10)\n",
    "        )       \n",
    "        \n",
    "    def forward(self,x):\n",
    "        out = self.layer(x)\n",
    "        out = out.view(-1,64*3*3)\n",
    "        out = self.fc_layer(out)\n",
    "\n",
    "        return out\n",
    "\n",
    "model = CNN().to(device)"
   ]
  },
  {
   "cell_type": "code",
   "execution_count": 5,
   "id": "d84d196a",
   "metadata": {},
   "outputs": [],
   "source": [
    "loss = nn.CrossEntropyLoss()\n",
    "optimizer = torch.optim.Adam(model.parameters(), lr=1e-3)"
   ]
  },
  {
   "cell_type": "code",
   "execution_count": 6,
   "id": "1a32024d",
   "metadata": {},
   "outputs": [],
   "source": [
    "pgd_attack = PGD(model, eps=0.3, alpha=0.1, steps=10)"
   ]
  },
  {
   "cell_type": "code",
   "execution_count": 7,
   "id": "5aa97c40",
   "metadata": {},
   "outputs": [
    {
     "data": {
      "application/vnd.jupyter.widget-view+json": {
       "model_id": "7ac13ac48e5745e8baff064a5fae0580",
       "version_major": 2,
       "version_minor": 0
      },
      "text/plain": [
       "  0%|          | 0/1875 [00:00<?, ?it/s]"
      ]
     },
     "metadata": {},
     "output_type": "display_data"
    },
    {
     "name": "stdout",
     "output_type": "stream",
     "text": [
      "Epoch [1/5], Iteration [100/1875], Loss:1.6885\n",
      "Epoch [1/5], Iteration [200/1875], Loss:1.1105\n",
      "Epoch [1/5], Iteration [300/1875], Loss:0.8356\n",
      "Epoch [1/5], Iteration [400/1875], Loss:0.8612\n",
      "Epoch [1/5], Iteration [500/1875], Loss:0.7066\n",
      "Epoch [1/5], Iteration [600/1875], Loss:0.6703\n",
      "Epoch [1/5], Iteration [700/1875], Loss:0.6552\n",
      "Epoch [1/5], Iteration [800/1875], Loss:0.4776\n",
      "Epoch [1/5], Iteration [900/1875], Loss:0.6774\n",
      "Epoch [1/5], Iteration [1000/1875], Loss:0.4302\n",
      "Epoch [1/5], Iteration [1100/1875], Loss:0.495\n",
      "Epoch [1/5], Iteration [1200/1875], Loss:0.3613\n",
      "Epoch [1/5], Iteration [1300/1875], Loss:0.395\n",
      "Epoch [1/5], Iteration [1400/1875], Loss:0.5958\n",
      "Epoch [1/5], Iteration [1500/1875], Loss:0.3537\n",
      "Epoch [1/5], Iteration [1600/1875], Loss:0.2019\n",
      "Epoch [1/5], Iteration [1700/1875], Loss:0.3121\n",
      "Epoch [1/5], Iteration [1800/1875], Loss:0.1992\n"
     ]
    },
    {
     "data": {
      "application/vnd.jupyter.widget-view+json": {
       "model_id": "b22e54508d1e4d4eaf2b097b372ccf05",
       "version_major": 2,
       "version_minor": 0
      },
      "text/plain": [
       "  0%|          | 0/1875 [00:00<?, ?it/s]"
      ]
     },
     "metadata": {},
     "output_type": "display_data"
    },
    {
     "name": "stdout",
     "output_type": "stream",
     "text": [
      "Epoch [2/5], Iteration [100/1875], Loss:0.2787\n",
      "Epoch [2/5], Iteration [200/1875], Loss:0.2518\n",
      "Epoch [2/5], Iteration [300/1875], Loss:0.2459\n",
      "Epoch [2/5], Iteration [400/1875], Loss:0.1726\n",
      "Epoch [2/5], Iteration [500/1875], Loss:0.2822\n",
      "Epoch [2/5], Iteration [600/1875], Loss:0.2578\n",
      "Epoch [2/5], Iteration [700/1875], Loss:0.1266\n",
      "Epoch [2/5], Iteration [800/1875], Loss:0.3076\n",
      "Epoch [2/5], Iteration [900/1875], Loss:0.1465\n",
      "Epoch [2/5], Iteration [1000/1875], Loss:0.1431\n",
      "Epoch [2/5], Iteration [1100/1875], Loss:0.1388\n",
      "Epoch [2/5], Iteration [1200/1875], Loss:0.3253\n",
      "Epoch [2/5], Iteration [1300/1875], Loss:0.1743\n",
      "Epoch [2/5], Iteration [1400/1875], Loss:0.1754\n",
      "Epoch [2/5], Iteration [1500/1875], Loss:0.1248\n",
      "Epoch [2/5], Iteration [1600/1875], Loss:0.3208\n",
      "Epoch [2/5], Iteration [1700/1875], Loss:0.0777\n",
      "Epoch [2/5], Iteration [1800/1875], Loss:0.148\n"
     ]
    },
    {
     "data": {
      "application/vnd.jupyter.widget-view+json": {
       "model_id": "76b154f2049e4af6a3a2f1967cd86640",
       "version_major": 2,
       "version_minor": 0
      },
      "text/plain": [
       "  0%|          | 0/1875 [00:00<?, ?it/s]"
      ]
     },
     "metadata": {},
     "output_type": "display_data"
    },
    {
     "name": "stdout",
     "output_type": "stream",
     "text": [
      "Epoch [3/5], Iteration [100/1875], Loss:0.1142\n",
      "Epoch [3/5], Iteration [200/1875], Loss:0.0765\n",
      "Epoch [3/5], Iteration [300/1875], Loss:0.1344\n",
      "Epoch [3/5], Iteration [400/1875], Loss:0.1134\n",
      "Epoch [3/5], Iteration [500/1875], Loss:0.0183\n",
      "Epoch [3/5], Iteration [600/1875], Loss:0.0602\n",
      "Epoch [3/5], Iteration [700/1875], Loss:0.1091\n",
      "Epoch [3/5], Iteration [800/1875], Loss:0.0955\n",
      "Epoch [3/5], Iteration [900/1875], Loss:0.0289\n",
      "Epoch [3/5], Iteration [1000/1875], Loss:0.1282\n",
      "Epoch [3/5], Iteration [1100/1875], Loss:0.0345\n",
      "Epoch [3/5], Iteration [1200/1875], Loss:0.0909\n",
      "Epoch [3/5], Iteration [1300/1875], Loss:0.1798\n",
      "Epoch [3/5], Iteration [1400/1875], Loss:0.2598\n",
      "Epoch [3/5], Iteration [1500/1875], Loss:0.1679\n",
      "Epoch [3/5], Iteration [1600/1875], Loss:0.2629\n",
      "Epoch [3/5], Iteration [1700/1875], Loss:0.0591\n",
      "Epoch [3/5], Iteration [1800/1875], Loss:0.2121\n"
     ]
    },
    {
     "data": {
      "application/vnd.jupyter.widget-view+json": {
       "model_id": "ce7d46b1fd2341b6a3cc7a6bca4943d8",
       "version_major": 2,
       "version_minor": 0
      },
      "text/plain": [
       "  0%|          | 0/1875 [00:00<?, ?it/s]"
      ]
     },
     "metadata": {},
     "output_type": "display_data"
    },
    {
     "name": "stdout",
     "output_type": "stream",
     "text": [
      "Epoch [4/5], Iteration [100/1875], Loss:0.1009\n",
      "Epoch [4/5], Iteration [200/1875], Loss:0.0682\n",
      "Epoch [4/5], Iteration [300/1875], Loss:0.0255\n",
      "Epoch [4/5], Iteration [400/1875], Loss:0.0484\n",
      "Epoch [4/5], Iteration [500/1875], Loss:0.1161\n",
      "Epoch [4/5], Iteration [600/1875], Loss:0.0651\n",
      "Epoch [4/5], Iteration [700/1875], Loss:0.0623\n",
      "Epoch [4/5], Iteration [800/1875], Loss:0.0263\n",
      "Epoch [4/5], Iteration [900/1875], Loss:0.0669\n",
      "Epoch [4/5], Iteration [1000/1875], Loss:0.1045\n",
      "Epoch [4/5], Iteration [1100/1875], Loss:0.1126\n",
      "Epoch [4/5], Iteration [1200/1875], Loss:0.0555\n",
      "Epoch [4/5], Iteration [1300/1875], Loss:0.2214\n",
      "Epoch [4/5], Iteration [1400/1875], Loss:0.1072\n",
      "Epoch [4/5], Iteration [1500/1875], Loss:0.0341\n",
      "Epoch [4/5], Iteration [1600/1875], Loss:0.0697\n",
      "Epoch [4/5], Iteration [1700/1875], Loss:0.2253\n",
      "Epoch [4/5], Iteration [1800/1875], Loss:0.0335\n"
     ]
    },
    {
     "data": {
      "application/vnd.jupyter.widget-view+json": {
       "model_id": "5697bd2f9bcc4bc59ac742dddbcc6f0d",
       "version_major": 2,
       "version_minor": 0
      },
      "text/plain": [
       "  0%|          | 0/1875 [00:00<?, ?it/s]"
      ]
     },
     "metadata": {},
     "output_type": "display_data"
    },
    {
     "name": "stdout",
     "output_type": "stream",
     "text": [
      "Epoch [5/5], Iteration [100/1875], Loss:0.096\n",
      "Epoch [5/5], Iteration [200/1875], Loss:0.2202\n",
      "Epoch [5/5], Iteration [300/1875], Loss:0.0189\n",
      "Epoch [5/5], Iteration [400/1875], Loss:0.0726\n",
      "Epoch [5/5], Iteration [500/1875], Loss:0.1054\n",
      "Epoch [5/5], Iteration [600/1875], Loss:0.0429\n",
      "Epoch [5/5], Iteration [700/1875], Loss:0.0174\n",
      "Epoch [5/5], Iteration [800/1875], Loss:0.2065\n",
      "Epoch [5/5], Iteration [900/1875], Loss:0.0111\n",
      "Epoch [5/5], Iteration [1000/1875], Loss:0.061\n",
      "Epoch [5/5], Iteration [1100/1875], Loss:0.2128\n",
      "Epoch [5/5], Iteration [1200/1875], Loss:0.031\n",
      "Epoch [5/5], Iteration [1300/1875], Loss:0.0703\n",
      "Epoch [5/5], Iteration [1400/1875], Loss:0.0442\n",
      "Epoch [5/5], Iteration [1500/1875], Loss:0.0823\n",
      "Epoch [5/5], Iteration [1600/1875], Loss:0.0477\n",
      "Epoch [5/5], Iteration [1700/1875], Loss:0.0492\n",
      "Epoch [5/5], Iteration [1800/1875], Loss:0.0315\n"
     ]
    }
   ],
   "source": [
    "num_batches = len(mnist_train_data) // train_batch_size\n",
    "num_epochs = 5\n",
    "loss_lst = []\n",
    "\n",
    "for epoch in range(num_epochs):\n",
    "    for itr, (batch_imgs, batch_labels) in enumerate(tqdm(trainloader)):\n",
    "        batch_imgs = batch_imgs.to(device)\n",
    "        batch_labels = batch_labels.to(device)\n",
    "        \n",
    "        batch_adv_imgs = pgd_attack(batch_imgs, batch_labels)\n",
    "        \n",
    "        X_train = torch.cat((batch_adv_imgs, batch_imgs), 0)   \n",
    "        Y_train_gt = torch.cat((batch_labels, batch_labels), 0)\n",
    "        \n",
    "        Y_train_pred = model(X_train)\n",
    "        loss_val = loss(Y_train_pred, Y_train_gt)\n",
    "        \n",
    "        optimizer.zero_grad()\n",
    "        loss_val.backward()\n",
    "        optimizer.step()\n",
    "        \n",
    "        if (itr + 1) % 100 == 0:\n",
    "            print(\"Epoch [{}/{}], Iteration [{}/{}], Loss:{}\".format(epoch+1, num_epochs, \n",
    "                                                                        itr+1, num_batches, \n",
    "                                                                        round(loss_val.item(),4)))\n",
    "        \n",
    "        loss_lst.append(loss_val.item())"
   ]
  },
  {
   "cell_type": "code",
   "execution_count": 8,
   "id": "b88d9800",
   "metadata": {},
   "outputs": [
    {
     "data": {
      "image/png": "[encoded data removed]",
      "text/plain": [
       "<Figure size 720x504 with 1 Axes>"
      ]
     },
     "metadata": {
      "needs_background": "light"
     },
     "output_type": "display_data"
    }
   ],
   "source": [
    "plt.figure(figsize=(10,7))\n",
    "plt.plot(loss_lst)\n",
    "plt.xlabel(\"iteration\")\n",
    "plt.ylabel(\"objective function\")\n",
    "plt.grid()\n",
    "plt.show()"
   ]
  },
  {
   "cell_type": "markdown",
   "id": "b8171be9",
   "metadata": {},
   "source": [
    "### Test accuracy (standard clean)"
   ]
  },
  {
   "cell_type": "code",
   "execution_count": 10,
   "id": "4013d1a5",
   "metadata": {},
   "outputs": [
    {
     "data": {
      "application/vnd.jupyter.widget-view+json": {
       "model_id": "02a36c52fbc54523b756c53c4d2ebdd3",
       "version_major": 2,
       "version_minor": 0
      },
      "text/plain": [
       "  0%|          | 0/313 [00:00<?, ?it/s]"
      ]
     },
     "metadata": {},
     "output_type": "display_data"
    },
    {
     "name": "stdout",
     "output_type": "stream",
     "text": [
      "Standard clean accuracy: 99.06 %\n"
     ]
    }
   ],
   "source": [
    "num_corr_pred = 0\n",
    "\n",
    "model.eval()\n",
    "\n",
    "with torch.no_grad():\n",
    "    for itr, (batch_imgs, batch_labels) in enumerate(tqdm(testloader)):\n",
    "        X_test = batch_imgs.to(device)\n",
    "        Y_test_gt = batch_labels.to(device)\n",
    "\n",
    "        _, Y_test_pred = torch.max(model(X_test), dim=1)\n",
    "    #     print(Y_test_gt.shape, Y_test_pred.shape)\n",
    "\n",
    "        num_corr_pred += (Y_test_pred == Y_test_gt).sum()\n",
    "\n",
    "test_accuracy = round(float(num_corr_pred) / num_test_samples, 4) * 100.0\n",
    "print(\"Standard clean accuracy: {} %\".format(test_accuracy))"
   ]
  },
  {
   "cell_type": "markdown",
   "id": "b883e444",
   "metadata": {},
   "source": [
    "### Test accuracy (PGD attack)"
   ]
  },
  {
   "cell_type": "code",
   "execution_count": 18,
   "id": "0bb5ed64",
   "metadata": {},
   "outputs": [
    {
     "data": {
      "application/vnd.jupyter.widget-view+json": {
       "model_id": "5798f19846234e17beb6c739d9d23f73",
       "version_major": 2,
       "version_minor": 0
      },
      "text/plain": [
       "  0%|          | 0/313 [00:00<?, ?it/s]"
      ]
     },
     "metadata": {},
     "output_type": "display_data"
    },
    {
     "name": "stdout",
     "output_type": "stream",
     "text": [
      "Robust accuracy (PGD attack): 94.8 %\n"
     ]
    }
   ],
   "source": [
    "num_corr_pred = 0\n",
    "\n",
    "model.eval()\n",
    "\n",
    "# with torch.no_grad():\n",
    "for itr, (batch_imgs, batch_labels) in enumerate(tqdm(testloader)):\n",
    "    batch_imgs = batch_imgs.to(device)\n",
    "    batch_labels = batch_labels.to(device)\n",
    "\n",
    "    X_test = pgd_attack(batch_imgs, batch_labels)\n",
    "    Y_test_gt = batch_labels\n",
    "\n",
    "    _, Y_test_pred = torch.max(model(X_test), dim=1)\n",
    "\n",
    "    num_corr_pred += (Y_test_pred == Y_test_gt).sum()\n",
    "\n",
    "test_accuracy = round(100.0 * float(num_corr_pred) / num_test_samples, 4)\n",
    "print(\"Robust accuracy (PGD attack): {} %\".format(test_accuracy))"
   ]
  },
  {
   "cell_type": "markdown",
   "id": "90f2ced8",
   "metadata": {},
   "source": [
    "### Test accuracy (FGSM attack)"
   ]
  },
  {
   "cell_type": "code",
   "execution_count": 17,
   "id": "72b1c0d5",
   "metadata": {},
   "outputs": [
    {
     "data": {
      "application/vnd.jupyter.widget-view+json": {
       "model_id": "f6d12c562179421aa612b9ebdd5a8151",
       "version_major": 2,
       "version_minor": 0
      },
      "text/plain": [
       "  0%|          | 0/313 [00:00<?, ?it/s]"
      ]
     },
     "metadata": {},
     "output_type": "display_data"
    },
    {
     "name": "stdout",
     "output_type": "stream",
     "text": [
      "Robust accuracy (FGSM attack): 96.68 %\n"
     ]
    }
   ],
   "source": [
    "num_corr_pred = 0\n",
    "\n",
    "model.eval()\n",
    "fgsm_attack = FGSM(model, eps=0.3)\n",
    "\n",
    "# with torch.no_grad():\n",
    "for itr, (batch_imgs, batch_labels) in enumerate(tqdm(testloader)):\n",
    "    batch_imgs = batch_imgs.to(device)\n",
    "    batch_labels = batch_labels.to(device)\n",
    "#     print(batch_imgs.shape, batch_labels.shape)\n",
    "\n",
    "    X_test = fgsm_attack(batch_imgs, batch_labels)\n",
    "    Y_test_gt = batch_labels\n",
    "\n",
    "    _, Y_test_pred = torch.max(model(X_test), dim=1)\n",
    "\n",
    "    num_corr_pred += (Y_test_pred == Y_test_gt).sum()\n",
    "\n",
    "test_accuracy = round(100.0 * float(num_corr_pred) / num_test_samples, 4)\n",
    "print(\"Robust accuracy (FGSM attack): {} %\".format(test_accuracy))"
   ]
  },
  {
   "cell_type": "markdown",
   "id": "ef3c11d3",
   "metadata": {},
   "source": [
    "### Test accuracy (FGSM + PGD - attack)"
   ]
  },
  {
   "cell_type": "code",
   "execution_count": 20,
   "id": "2fe07688",
   "metadata": {},
   "outputs": [
    {
     "data": {
      "application/vnd.jupyter.widget-view+json": {
       "model_id": "565c5671b783490897a92f9a7695b4c0",
       "version_major": 2,
       "version_minor": 0
      },
      "text/plain": [
       "  0%|          | 0/313 [00:00<?, ?it/s]"
      ]
     },
     "metadata": {},
     "output_type": "display_data"
    },
    {
     "name": "stdout",
     "output_type": "stream",
     "text": [
      "Robust accuracy (FGSM + PGD attack): 95.715 %\n"
     ]
    }
   ],
   "source": [
    "num_corr_pred = 0\n",
    "num_samples = 0\n",
    "model.eval()\n",
    "\n",
    "fgsm_attack = FGSM(model, eps=0.3)\n",
    "\n",
    "for itr, (batch_imgs, batch_labels) in enumerate(tqdm(testloader)):\n",
    "    batch_imgs = batch_imgs.to(device)\n",
    "    batch_labels = batch_labels.to(device)\n",
    "    \n",
    "    X_adv_fgsm_imgs = fgsm_attack(batch_imgs, batch_labels)\n",
    "    X_adv_pgd_imgs = pgd_attack(batch_imgs, batch_labels)\n",
    "    \n",
    "    X_test = torch.cat((X_adv_fgsm_imgs, X_adv_pgd_imgs), 0)\n",
    "    Y_test_gt = torch.cat((batch_labels, batch_labels), 0)\n",
    "    \n",
    "    _, Y_test_pred = torch.max(model(X_test), dim=1)\n",
    "\n",
    "    num_samples += batch_imgs.shape[0]\n",
    "    num_corr_pred += (Y_test_pred == Y_test_gt).sum()\n",
    "\n",
    "test_accuracy = round(0.5 * 100.0 * float(num_corr_pred) / num_samples, 4)\n",
    "print(\"Robust accuracy (FGSM + PGD attack): {} %\".format(test_accuracy))"
   ]
  }
 ],
 "metadata": {
  "kernelspec": {
   "display_name": "Python 3",
   "language": "python",
   "name": "python3"
  },
  "language_info": {
   "codemirror_mode": {
    "name": "ipython",
    "version": 3
   },
   "file_extension": ".py",
   "mimetype": "text/x-python",
   "name": "python",
   "nbconvert_exporter": "python",
   "pygments_lexer": "ipython3",
   "version": "3.9.5"
  }
 },
 "nbformat": 4,
 "nbformat_minor": 5
}
