{
 "cells": [
  {
   "cell_type": "code",
   "execution_count": 1,
   "id": "25f49d30",
   "metadata": {},
   "outputs": [],
   "source": [
    "import os\n",
    "import numpy as np\n",
    "import matplotlib.pyplot as plt\n",
    "plt.rcParams.update({'font.size': 14})\n",
    "\n",
    "import torch\n",
    "import torch.nn as nn\n",
    "\n",
    "import torchvision.transforms as transforms\n",
    "import torchvision.datasets as TVdatasets\n",
    "\n",
    "import torchattacks\n",
    "from torchattacks import PGD, FGSM\n",
    "\n",
    "from tqdm.notebook import tqdm"
   ]
  },
  {
   "cell_type": "markdown",
   "id": "cc5eb470",
   "metadata": {},
   "source": [
    "### Load CIFAR-10 data"
   ]
  },
  {
   "cell_type": "code",
   "execution_count": 2,
   "id": "83eecc9d",
   "metadata": {},
   "outputs": [
    {
     "name": "stdout",
     "output_type": "stream",
     "text": [
      "Files already downloaded and verified\n",
      "Files already downloaded and verified\n",
      "Number of train samples: 50000\n",
      "Number of test samples: 10000\n"
     ]
    }
   ],
   "source": [
    "cifar10_transform = transforms.Compose([transforms.ToTensor(),\n",
    "                                       transforms.Normalize((0.5,0.5,0.5), (0.5,0.5,0.5))])\n",
    "\n",
    "cifar10_train_data = TVdatasets.CIFAR10(root=\"../data/\", \n",
    "                                        train=True, \n",
    "                                        download=True, \n",
    "                                        transform=cifar10_transform)\n",
    "\n",
    "cifar10_test_data = TVdatasets.CIFAR10(root=\"../data/\", \n",
    "                                       train=False, \n",
    "                                       download=True, \n",
    "                                       transform=cifar10_transform)\n",
    "\n",
    "num_train_samples = len(cifar10_train_data)\n",
    "num_test_samples = len(cifar10_test_data)\n",
    "\n",
    "print(\"Number of train samples:\", num_train_samples)\n",
    "print(\"Number of test samples:\", num_test_samples)"
   ]
  },
  {
   "cell_type": "code",
   "execution_count": 3,
   "id": "e5015c04",
   "metadata": {},
   "outputs": [],
   "source": [
    "device = torch.device(\"cuda\" if torch.cuda.is_available() else \"cpu\")\n",
    "kwargs = {'num_workers': 2, 'pin_memory': True} if device=='cuda' else {}\n",
    "\n",
    "train_batch_size = 32\n",
    "test_batch_size = 32\n",
    "\n",
    "trainloader = torch.utils.data.DataLoader(dataset=cifar10_train_data,\n",
    "                                         batch_size=train_batch_size,\n",
    "                                         shuffle=True,\n",
    "                                         **kwargs)\n",
    "\n",
    "testloader = torch.utils.data.DataLoader(dataset=cifar10_test_data,\n",
    "                                         batch_size=test_batch_size,\n",
    "                                         shuffle=False,\n",
    "                                        **kwargs)"
   ]
  },
  {
   "cell_type": "markdown",
   "id": "cf9de4c5",
   "metadata": {},
   "source": [
    "### Model definition"
   ]
  },
  {
   "cell_type": "code",
   "execution_count": 4,
   "id": "8385448b",
   "metadata": {},
   "outputs": [],
   "source": [
    "class Holdout(nn.Module):\n",
    "    def __init__(self):\n",
    "        super(Holdout, self).__init__()\n",
    "        \n",
    "        self.conv_layer = nn.Sequential(\n",
    "            nn.Conv2d(3, 32, 5),\n",
    "            nn.ReLU(),\n",
    "            nn.BatchNorm2d(32),\n",
    "            nn.MaxPool2d(2,2),\n",
    "            nn.Conv2d(32, 64, 5),\n",
    "            nn.BatchNorm2d(64),\n",
    "            nn.ReLU(),\n",
    "            nn.MaxPool2d(2,2)\n",
    "        )\n",
    "\n",
    "        self.fc_layer = nn.Sequential(\n",
    "            nn.Linear(64 * 5 * 5, 256),\n",
    "            nn.ReLU(),\n",
    "            nn.Linear(256, 64),\n",
    "            nn.ReLU(),\n",
    "            nn.Linear(64, 10)    \n",
    "        )\n",
    "        \n",
    "    def forward(self, x):\n",
    "        out = self.conv_layer(x)\n",
    "        out = out.view(-1, 64*5*5)\n",
    "        out = self.fc_layer(out)\n",
    "        \n",
    "        return out\n",
    "\n",
    "model = Holdout().to(device)\n",
    "\n",
    "# model.load_state_dict(torch.load(\"./checkpoint/holdout.pth\"))\n",
    "# model = model.eval().cuda()"
   ]
  },
  {
   "cell_type": "code",
   "execution_count": 5,
   "id": "94162f52",
   "metadata": {},
   "outputs": [],
   "source": [
    "loss = nn.CrossEntropyLoss()\n",
    "optimizer = torch.optim.Adam(model.parameters(), lr=1e-3)"
   ]
  },
  {
   "cell_type": "code",
   "execution_count": 6,
   "id": "6d2bd13e",
   "metadata": {},
   "outputs": [],
   "source": [
    "pgd_attack = PGD(model, eps=8/255, alpha=2/255, steps=10)\n",
    "fgsm_attack = FGSM(model, eps=8/255)"
   ]
  },
  {
   "cell_type": "markdown",
   "id": "44866501",
   "metadata": {},
   "source": [
    "### Training Process"
   ]
  },
  {
   "cell_type": "code",
   "execution_count": 7,
   "id": "ee27b04d",
   "metadata": {},
   "outputs": [
    {
     "data": {
      "application/vnd.jupyter.widget-view+json": {
       "model_id": "b6f46741d8ff4e9cb08cc1af9a913543",
       "version_major": 2,
       "version_minor": 0
      },
      "text/plain": [
       "  0%|          | 0/1563 [00:00<?, ?it/s]"
      ]
     },
     "metadata": {},
     "output_type": "display_data"
    },
    {
     "name": "stdout",
     "output_type": "stream",
     "text": [
      "Epoch [1/5], Iteration [100/1562], Loss:1.918\n",
      "Epoch [1/5], Iteration [200/1562], Loss:1.969\n",
      "Epoch [1/5], Iteration [300/1562], Loss:1.6493\n",
      "Epoch [1/5], Iteration [400/1562], Loss:1.6181\n",
      "Epoch [1/5], Iteration [500/1562], Loss:1.741\n",
      "Epoch [1/5], Iteration [600/1562], Loss:1.7006\n",
      "Epoch [1/5], Iteration [700/1562], Loss:1.6332\n",
      "Epoch [1/5], Iteration [800/1562], Loss:1.5342\n",
      "Epoch [1/5], Iteration [900/1562], Loss:1.7447\n",
      "Epoch [1/5], Iteration [1000/1562], Loss:1.3729\n",
      "Epoch [1/5], Iteration [1100/1562], Loss:1.4116\n",
      "Epoch [1/5], Iteration [1200/1562], Loss:1.5364\n",
      "Epoch [1/5], Iteration [1300/1562], Loss:1.6376\n",
      "Epoch [1/5], Iteration [1400/1562], Loss:1.6865\n",
      "Epoch [1/5], Iteration [1500/1562], Loss:1.4668\n"
     ]
    },
    {
     "data": {
      "application/vnd.jupyter.widget-view+json": {
       "model_id": "1261b5056dc84d3cbd3c4d1720a7a099",
       "version_major": 2,
       "version_minor": 0
      },
      "text/plain": [
       "  0%|          | 0/1563 [00:00<?, ?it/s]"
      ]
     },
     "metadata": {},
     "output_type": "display_data"
    },
    {
     "name": "stdout",
     "output_type": "stream",
     "text": [
      "Epoch [2/5], Iteration [100/1562], Loss:1.463\n",
      "Epoch [2/5], Iteration [200/1562], Loss:1.4108\n",
      "Epoch [2/5], Iteration [300/1562], Loss:1.4046\n",
      "Epoch [2/5], Iteration [400/1562], Loss:1.5568\n",
      "Epoch [2/5], Iteration [500/1562], Loss:1.3926\n",
      "Epoch [2/5], Iteration [600/1562], Loss:1.5788\n",
      "Epoch [2/5], Iteration [700/1562], Loss:1.4751\n",
      "Epoch [2/5], Iteration [800/1562], Loss:1.4286\n",
      "Epoch [2/5], Iteration [900/1562], Loss:1.6057\n",
      "Epoch [2/5], Iteration [1000/1562], Loss:1.123\n",
      "Epoch [2/5], Iteration [1100/1562], Loss:1.5468\n",
      "Epoch [2/5], Iteration [1200/1562], Loss:1.3926\n",
      "Epoch [2/5], Iteration [1300/1562], Loss:1.3147\n",
      "Epoch [2/5], Iteration [1400/1562], Loss:1.4218\n",
      "Epoch [2/5], Iteration [1500/1562], Loss:1.3303\n"
     ]
    },
    {
     "data": {
      "application/vnd.jupyter.widget-view+json": {
       "model_id": "dde6bfb951264a99abe3c84a2d8d03e9",
       "version_major": 2,
       "version_minor": 0
      },
      "text/plain": [
       "  0%|          | 0/1563 [00:00<?, ?it/s]"
      ]
     },
     "metadata": {},
     "output_type": "display_data"
    },
    {
     "name": "stdout",
     "output_type": "stream",
     "text": [
      "Epoch [3/5], Iteration [100/1562], Loss:1.2934\n",
      "Epoch [3/5], Iteration [200/1562], Loss:1.148\n",
      "Epoch [3/5], Iteration [300/1562], Loss:1.7131\n",
      "Epoch [3/5], Iteration [400/1562], Loss:1.4047\n",
      "Epoch [3/5], Iteration [500/1562], Loss:1.3032\n",
      "Epoch [3/5], Iteration [600/1562], Loss:1.3252\n",
      "Epoch [3/5], Iteration [700/1562], Loss:1.4205\n",
      "Epoch [3/5], Iteration [800/1562], Loss:1.2804\n",
      "Epoch [3/5], Iteration [900/1562], Loss:1.31\n",
      "Epoch [3/5], Iteration [1000/1562], Loss:1.2771\n",
      "Epoch [3/5], Iteration [1100/1562], Loss:1.1779\n",
      "Epoch [3/5], Iteration [1200/1562], Loss:1.186\n",
      "Epoch [3/5], Iteration [1300/1562], Loss:1.3194\n",
      "Epoch [3/5], Iteration [1400/1562], Loss:1.4253\n",
      "Epoch [3/5], Iteration [1500/1562], Loss:1.4131\n"
     ]
    },
    {
     "data": {
      "application/vnd.jupyter.widget-view+json": {
       "model_id": "856c14f5b9cd489ba110428ddde91cc9",
       "version_major": 2,
       "version_minor": 0
      },
      "text/plain": [
       "  0%|          | 0/1563 [00:00<?, ?it/s]"
      ]
     },
     "metadata": {},
     "output_type": "display_data"
    },
    {
     "name": "stdout",
     "output_type": "stream",
     "text": [
      "Epoch [4/5], Iteration [100/1562], Loss:1.0301\n",
      "Epoch [4/5], Iteration [200/1562], Loss:1.0095\n",
      "Epoch [4/5], Iteration [300/1562], Loss:1.4267\n",
      "Epoch [4/5], Iteration [400/1562], Loss:1.3617\n",
      "Epoch [4/5], Iteration [500/1562], Loss:1.0978\n",
      "Epoch [4/5], Iteration [600/1562], Loss:1.2811\n",
      "Epoch [4/5], Iteration [700/1562], Loss:1.3317\n",
      "Epoch [4/5], Iteration [800/1562], Loss:1.1573\n",
      "Epoch [4/5], Iteration [900/1562], Loss:1.3919\n",
      "Epoch [4/5], Iteration [1000/1562], Loss:1.1622\n",
      "Epoch [4/5], Iteration [1100/1562], Loss:1.4642\n",
      "Epoch [4/5], Iteration [1200/1562], Loss:1.0367\n",
      "Epoch [4/5], Iteration [1300/1562], Loss:1.2148\n",
      "Epoch [4/5], Iteration [1400/1562], Loss:1.3865\n",
      "Epoch [4/5], Iteration [1500/1562], Loss:1.226\n"
     ]
    },
    {
     "data": {
      "application/vnd.jupyter.widget-view+json": {
       "model_id": "486ec501280c4d0a908e0f7afb1e1f98",
       "version_major": 2,
       "version_minor": 0
      },
      "text/plain": [
       "  0%|          | 0/1563 [00:00<?, ?it/s]"
      ]
     },
     "metadata": {},
     "output_type": "display_data"
    },
    {
     "name": "stdout",
     "output_type": "stream",
     "text": [
      "Epoch [5/5], Iteration [100/1562], Loss:1.1797\n",
      "Epoch [5/5], Iteration [200/1562], Loss:1.2071\n",
      "Epoch [5/5], Iteration [300/1562], Loss:1.1632\n",
      "Epoch [5/5], Iteration [400/1562], Loss:0.9704\n",
      "Epoch [5/5], Iteration [500/1562], Loss:1.0664\n",
      "Epoch [5/5], Iteration [600/1562], Loss:1.3845\n",
      "Epoch [5/5], Iteration [700/1562], Loss:1.2092\n",
      "Epoch [5/5], Iteration [800/1562], Loss:1.5862\n",
      "Epoch [5/5], Iteration [900/1562], Loss:1.1811\n",
      "Epoch [5/5], Iteration [1000/1562], Loss:1.3756\n",
      "Epoch [5/5], Iteration [1100/1562], Loss:1.3057\n",
      "Epoch [5/5], Iteration [1200/1562], Loss:1.0341\n",
      "Epoch [5/5], Iteration [1300/1562], Loss:1.2098\n",
      "Epoch [5/5], Iteration [1400/1562], Loss:1.1523\n",
      "Epoch [5/5], Iteration [1500/1562], Loss:1.299\n"
     ]
    }
   ],
   "source": [
    "num_batches = len(cifar10_train_data) // train_batch_size\n",
    "num_epochs = 5\n",
    "loss_lst = []\n",
    "\n",
    "for epoch in range(num_epochs):\n",
    "    for itr, (batch_imgs, batch_labels) in enumerate(tqdm(trainloader)):\n",
    "        batch_imgs = batch_imgs.to(device)\n",
    "        batch_labels = batch_labels.to(device)\n",
    "        \n",
    "        batch_adv_imgs = pgd_attack(batch_imgs, batch_labels)\n",
    "        \n",
    "        X_train = torch.cat((batch_adv_imgs, batch_imgs), 0)   \n",
    "        Y_train_gt = torch.cat((batch_labels, batch_labels), 0)\n",
    "\n",
    "#         X_train = batch_imgs\n",
    "#         Y_train_gt = batch_labels\n",
    "        \n",
    "        Y_train_pred = model(X_train)\n",
    "        loss_val = loss(Y_train_pred, Y_train_gt)\n",
    "        \n",
    "        optimizer.zero_grad()\n",
    "        loss_val.backward()\n",
    "        optimizer.step()\n",
    "        \n",
    "        if (itr + 1) % 100 == 0:\n",
    "            print(\"Epoch [{}/{}], Iteration [{}/{}], Loss:{}\".format(epoch+1, num_epochs, \n",
    "                                                                        itr+1, num_batches, \n",
    "                                                                        round(loss_val.item(),4)))\n",
    "        \n",
    "        loss_lst.append(loss_val.item())\n",
    "\n",
    "model_save_path = '../cifar10_net.pth'\n",
    "torch.save(model.state_dict(), model_save_path)"
   ]
  },
  {
   "cell_type": "code",
   "execution_count": 8,
   "id": "8e9eb256",
   "metadata": {},
   "outputs": [
    {
     "data": {
      "image/png": "[encoded data removed]",
      "text/plain": [
       "<Figure size 720x504 with 1 Axes>"
      ]
     },
     "metadata": {
      "needs_background": "light"
     },
     "output_type": "display_data"
    }
   ],
   "source": [
    "plt.figure(figsize=(10,7))\n",
    "plt.plot(loss_lst)\n",
    "plt.xlabel(\"iteration\")\n",
    "plt.ylabel(\"objective function\")\n",
    "plt.grid()\n",
    "plt.show()"
   ]
  },
  {
   "cell_type": "code",
   "execution_count": 13,
   "id": "b27f6714",
   "metadata": {},
   "outputs": [],
   "source": [
    "# pgd_attack = PGD(model, eps=8/255, alpha=2/255, steps=10)\n",
    "# pgd_attack.set_return_type('int')\n",
    "# pgd_attack.save(data_loader=testloader, save_path=\"./data/cifar10_pgd.pt\", verbose=True)"
   ]
  },
  {
   "cell_type": "code",
   "execution_count": 15,
   "id": "9701a5dd",
   "metadata": {},
   "outputs": [],
   "source": [
    "# adv_imgs, adv_labels = torch.load(\"./data/cifar10_pgd.pt\")\n",
    "# adv_data = TensorDataset(adv_imgs.float() / 255.0, adv_labels)\n",
    "# adv_loader = torch.utils.data.DataLoader(adv_data, batch_size=128, shuffle=False)"
   ]
  },
  {
   "cell_type": "markdown",
   "id": "9af9930b",
   "metadata": {},
   "source": [
    "### Test accuracy (standard clean)"
   ]
  },
  {
   "cell_type": "code",
   "execution_count": 9,
   "id": "0ea7533f",
   "metadata": {},
   "outputs": [
    {
     "data": {
      "application/vnd.jupyter.widget-view+json": {
       "model_id": "837868a5c74a4ae28e7723286876c1ca",
       "version_major": 2,
       "version_minor": 0
      },
      "text/plain": [
       "  0%|          | 0/313 [00:00<?, ?it/s]"
      ]
     },
     "metadata": {},
     "output_type": "display_data"
    },
    {
     "name": "stdout",
     "output_type": "stream",
     "text": [
      "Standard clean accuracy: 70.51 %\n"
     ]
    }
   ],
   "source": [
    "num_samples = 0\n",
    "num_corr_pred = 0\n",
    "model.eval()\n",
    "\n",
    "with torch.no_grad():\n",
    "    for itr, (batch_imgs, batch_labels) in enumerate(tqdm(testloader)):\n",
    "        batch_imgs = batch_imgs.to(device)\n",
    "        batch_labels = batch_labels.to(device)\n",
    "#         print(batch_imgs.shape, batch_labels.shape)\n",
    "\n",
    "        X_test = batch_imgs\n",
    "        Y_test_gt = batch_labels\n",
    "\n",
    "        _, Y_test_pred = torch.max(model(X_test), dim=1)\n",
    "\n",
    "        num_samples += batch_imgs.shape[0]\n",
    "        num_corr_pred += (Y_test_pred == Y_test_gt).sum()\n",
    "\n",
    "test_accuracy = round(100.0 * float(num_corr_pred) / num_samples, 4)\n",
    "print(\"Standard clean accuracy: {} %\".format(test_accuracy))"
   ]
  },
  {
   "cell_type": "markdown",
   "id": "d55eb230",
   "metadata": {},
   "source": [
    "### Test accuracy (PGD attack)"
   ]
  },
  {
   "cell_type": "code",
   "execution_count": 10,
   "id": "eb6d430b",
   "metadata": {},
   "outputs": [
    {
     "data": {
      "application/vnd.jupyter.widget-view+json": {
       "model_id": "6be6550366104b389eec0f3f8401e3e8",
       "version_major": 2,
       "version_minor": 0
      },
      "text/plain": [
       "  0%|          | 0/313 [00:00<?, ?it/s]"
      ]
     },
     "metadata": {},
     "output_type": "display_data"
    },
    {
     "name": "stdout",
     "output_type": "stream",
     "text": [
      "Robust accuracy (PGD attack): 38.24 %\n"
     ]
    }
   ],
   "source": [
    "num_samples = 0\n",
    "num_corr_pred = 0\n",
    "model.eval()\n",
    "\n",
    "# with torch.no_grad():\n",
    "for itr, (batch_imgs, batch_labels) in enumerate(tqdm(testloader)):\n",
    "    batch_imgs = batch_imgs.to(device)\n",
    "    batch_labels = batch_labels.to(device)\n",
    "#     print(batch_imgs.shape, batch_labels.shape)\n",
    "\n",
    "    X_adv_pgd_imgs = pgd_attack(batch_imgs, batch_labels)\n",
    "\n",
    "    X_test = X_adv_pgd_imgs\n",
    "    Y_test_gt = batch_labels\n",
    "\n",
    "    _, Y_test_pred = torch.max(model(X_test), dim=1)\n",
    "\n",
    "    num_samples += batch_imgs.shape[0]\n",
    "    num_corr_pred += (Y_test_pred == Y_test_gt).sum()\n",
    "    \n",
    "test_accuracy = round(100.0 * float(num_corr_pred) / num_samples, 4)\n",
    "print(\"Robust accuracy (PGD attack): {} %\".format(test_accuracy))"
   ]
  },
  {
   "cell_type": "markdown",
   "id": "e47f266b",
   "metadata": {},
   "source": [
    "### Test accuracy (FGSM attack)"
   ]
  },
  {
   "cell_type": "code",
   "execution_count": 11,
   "id": "2f7feed4",
   "metadata": {},
   "outputs": [
    {
     "data": {
      "application/vnd.jupyter.widget-view+json": {
       "model_id": "186ec380a5b84ea5baf7baa8271ca884",
       "version_major": 2,
       "version_minor": 0
      },
      "text/plain": [
       "  0%|          | 0/313 [00:00<?, ?it/s]"
      ]
     },
     "metadata": {},
     "output_type": "display_data"
    },
    {
     "name": "stdout",
     "output_type": "stream",
     "text": [
      "Robust accuracy (FGSM attack): 46.92 %\n"
     ]
    }
   ],
   "source": [
    "num_samples = 0\n",
    "num_corr_pred = 0\n",
    "model.eval()\n",
    "\n",
    "# with torch.no_grad():\n",
    "for itr, (batch_imgs, batch_labels) in enumerate(tqdm(testloader)):\n",
    "#     batch_imgs = transforms.functional.rgb_to_grayscale(batch_imgs, num_output_channels=1) \n",
    "    batch_imgs = batch_imgs.to(device)\n",
    "    batch_labels = batch_labels.to(device)\n",
    "#     print(batch_imgs.shape, batch_labels.shape)\n",
    "\n",
    "    X_adv_fgsm_imgs = fgsm_attack(batch_imgs, batch_labels)\n",
    "\n",
    "    X_test = X_adv_fgsm_imgs\n",
    "    Y_test_gt = batch_labels\n",
    "\n",
    "    _, Y_test_pred = torch.max(model(X_test), dim=1)\n",
    "\n",
    "    num_samples += batch_imgs.shape[0]\n",
    "    num_corr_pred += (Y_test_pred == Y_test_gt).sum()\n",
    "    \n",
    "test_accuracy = round(100.0 * float(num_corr_pred) / num_samples, 4)\n",
    "print(\"Robust accuracy (FGSM attack): {} %\".format(test_accuracy))"
   ]
  },
  {
   "cell_type": "markdown",
   "id": "73c277e3",
   "metadata": {},
   "source": [
    "### Test accuracy (FGSM + PGD attack)"
   ]
  },
  {
   "cell_type": "code",
   "execution_count": 12,
   "id": "11e81648",
   "metadata": {},
   "outputs": [
    {
     "data": {
      "application/vnd.jupyter.widget-view+json": {
       "model_id": "6825868d08fa4d39947e128a75bda938",
       "version_major": 2,
       "version_minor": 0
      },
      "text/plain": [
       "  0%|          | 0/313 [00:00<?, ?it/s]"
      ]
     },
     "metadata": {},
     "output_type": "display_data"
    },
    {
     "name": "stdout",
     "output_type": "stream",
     "text": [
      "Robust accuracy (FGSM + PGD attack): 42.585 %\n"
     ]
    }
   ],
   "source": [
    "num_samples = 0\n",
    "num_corr_pred = 0\n",
    "model.eval()\n",
    "\n",
    "for itr, (batch_imgs, batch_labels) in enumerate(tqdm(testloader)):\n",
    "    batch_imgs = batch_imgs.to(device)\n",
    "    batch_labels = batch_labels.to(device)\n",
    "    \n",
    "    X_adv_fgsm_imgs = fgsm_attack(batch_imgs, batch_labels)\n",
    "    X_adv_pgd_imgs = pgd_attack(batch_imgs, batch_labels)\n",
    "    \n",
    "    X_test = torch.cat((X_adv_fgsm_imgs, X_adv_pgd_imgs), 0)\n",
    "    Y_test_gt = torch.cat((batch_labels, batch_labels), 0)\n",
    "    \n",
    "    _, Y_test_pred = torch.max(model(X_test), dim=1)\n",
    "\n",
    "    num_samples += Y_test_gt.shape[0]\n",
    "    num_corr_pred += (Y_test_pred == Y_test_gt).sum()\n",
    "\n",
    "test_accuracy = round(100.0 * float(num_corr_pred) / num_samples, 4)\n",
    "print(\"Robust accuracy (FGSM + PGD attack): {} %\".format(test_accuracy))"
   ]
  }
 ],
 "metadata": {
  "kernelspec": {
   "display_name": "Python 3",
   "language": "python",
   "name": "python3"
  },
  "language_info": {
   "codemirror_mode": {
    "name": "ipython",
    "version": 3
   },
   "file_extension": ".py",
   "mimetype": "text/x-python",
   "name": "python",
   "nbconvert_exporter": "python",
   "pygments_lexer": "ipython3",
   "version": "3.9.5"
  }
 },
 "nbformat": 4,
 "nbformat_minor": 5
}
