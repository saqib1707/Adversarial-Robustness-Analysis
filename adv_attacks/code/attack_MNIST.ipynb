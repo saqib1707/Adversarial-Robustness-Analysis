{
 "cells": [
  {
   "cell_type": "code",
   "execution_count": 3,
   "id": "25f49d30",
   "metadata": {},
   "outputs": [],
   "source": [
    "import os\n",
    "import numpy as np\n",
    "import matplotlib.pyplot as plt\n",
    "plt.rcParams.update({'font.size': 14})\n",
    "\n",
    "import torch\n",
    "import torch.nn as nn\n",
    "\n",
    "import torchvision.transforms as transforms\n",
    "import torchvision.datasets as TVdatasets\n",
    "\n",
    "import torchattacks\n",
    "from torchattacks import PGD, FGSM\n",
    "\n",
    "from tqdm.notebook import tqdm"
   ]
  },
  {
   "cell_type": "markdown",
   "id": "c589f530",
   "metadata": {},
   "source": [
    "### Load MNIST data"
   ]
  },
  {
   "cell_type": "code",
   "execution_count": 4,
   "id": "083981bd",
   "metadata": {},
   "outputs": [
    {
     "name": "stdout",
     "output_type": "stream",
     "text": [
      "Number of train samples: 60000\n",
      "Number of test samples: 10000\n"
     ]
    }
   ],
   "source": [
    "mnist_transform = transforms.Compose([transforms.ToTensor()])\n",
    "\n",
    "mnist_train_data = TVdatasets.MNIST(root='../data', \n",
    "                                    train=True,\n",
    "                                    transform=mnist_transform,\n",
    "                                    download=True)\n",
    "\n",
    "mnist_test_data = TVdatasets.MNIST(root='../data',\n",
    "                                  train=False,\n",
    "                                  transform=mnist_transform,\n",
    "                                  download=True)\n",
    "\n",
    "num_train_samples = len(mnist_train_data)\n",
    "num_test_samples = len(mnist_test_data)\n",
    "\n",
    "print(\"Number of train samples:\", num_train_samples)\n",
    "print(\"Number of test samples:\", num_test_samples)"
   ]
  },
  {
   "cell_type": "code",
   "execution_count": 5,
   "id": "82eda98d",
   "metadata": {},
   "outputs": [],
   "source": [
    "device = torch.device(\"cuda\" if torch.cuda.is_available() else \"cpu\")\n",
    "kwargs = {'num_workers': 2, 'pin_memory': True} if device=='cuda' else {}\n",
    "\n",
    "train_batch_size = 32\n",
    "test_batch_size = 32\n",
    "\n",
    "trainloader = torch.utils.data.DataLoader(dataset=mnist_train_data,\n",
    "                                         batch_size=train_batch_size,\n",
    "                                         shuffle=True,\n",
    "                                         **kwargs)\n",
    "\n",
    "testloader = torch.utils.data.DataLoader(dataset=mnist_test_data,\n",
    "                                        batch_size=test_batch_size,\n",
    "                                        shuffle=False,\n",
    "                                        **kwargs)"
   ]
  },
  {
   "cell_type": "markdown",
   "id": "ff3417ff",
   "metadata": {},
   "source": [
    "### Model class"
   ]
  },
  {
   "cell_type": "code",
   "execution_count": 6,
   "id": "b5d804e0",
   "metadata": {},
   "outputs": [],
   "source": [
    "class CNN(nn.Module):\n",
    "    def __init__(self):\n",
    "        super(CNN, self).__init__()\n",
    "        \n",
    "        self.layer = nn.Sequential(\n",
    "            nn.Conv2d(1,16,5), # 16*24*24\n",
    "            nn.ReLU(),\n",
    "            nn.Conv2d(16,32,5), # 32*20*20\n",
    "            nn.ReLU(),\n",
    "            nn.MaxPool2d(2,2), # 32*10*10\n",
    "            nn.Conv2d(32,64,5), # 64*6*6\n",
    "            nn.ReLU(),\n",
    "            nn.MaxPool2d(2,2) #64*3*3\n",
    "        )\n",
    "        \n",
    "        self.fc_layer = nn.Sequential(\n",
    "            nn.Linear(64*3*3,100),\n",
    "            nn.ReLU(),\n",
    "            nn.Linear(100,10)\n",
    "        )       \n",
    "        \n",
    "    def forward(self,x):\n",
    "        out = self.layer(x)\n",
    "        out = out.view(-1,64*3*3)\n",
    "        out = self.fc_layer(out)\n",
    "\n",
    "        return out\n",
    "\n",
    "model = CNN().to(device)"
   ]
  },
  {
   "cell_type": "code",
   "execution_count": 7,
   "id": "d84d196a",
   "metadata": {},
   "outputs": [],
   "source": [
    "loss = nn.CrossEntropyLoss()\n",
    "optimizer = torch.optim.Adam(model.parameters(), lr=1e-3)"
   ]
  },
  {
   "cell_type": "code",
   "execution_count": 8,
   "id": "5aa97c40",
   "metadata": {},
   "outputs": [
    {
     "data": {
      "application/vnd.jupyter.widget-view+json": {
       "model_id": "1aa84bdaf0294974ab22d02b1026fcde",
       "version_major": 2,
       "version_minor": 0
      },
      "text/plain": [
       "  0%|          | 0/1875 [00:00<?, ?it/s]"
      ]
     },
     "metadata": {},
     "output_type": "display_data"
    },
    {
     "name": "stdout",
     "output_type": "stream",
     "text": [
      "Epoch [1/5], Iteration [100/1875], Loss:1.4107\n",
      "Epoch [1/5], Iteration [200/1875], Loss:0.9505\n",
      "Epoch [1/5], Iteration [300/1875], Loss:0.8245\n",
      "Epoch [1/5], Iteration [400/1875], Loss:0.5658\n",
      "Epoch [1/5], Iteration [500/1875], Loss:0.4219\n",
      "Epoch [1/5], Iteration [600/1875], Loss:0.6064\n",
      "Epoch [1/5], Iteration [700/1875], Loss:0.4207\n",
      "Epoch [1/5], Iteration [800/1875], Loss:0.4709\n",
      "Epoch [1/5], Iteration [900/1875], Loss:0.2974\n",
      "Epoch [1/5], Iteration [1000/1875], Loss:0.4068\n",
      "Epoch [1/5], Iteration [1100/1875], Loss:0.18\n",
      "Epoch [1/5], Iteration [1200/1875], Loss:0.3809\n",
      "Epoch [1/5], Iteration [1300/1875], Loss:0.2924\n",
      "Epoch [1/5], Iteration [1400/1875], Loss:0.2829\n",
      "Epoch [1/5], Iteration [1500/1875], Loss:0.417\n",
      "Epoch [1/5], Iteration [1600/1875], Loss:0.2899\n",
      "Epoch [1/5], Iteration [1700/1875], Loss:0.1099\n",
      "Epoch [1/5], Iteration [1800/1875], Loss:0.0673\n"
     ]
    },
    {
     "data": {
      "application/vnd.jupyter.widget-view+json": {
       "model_id": "71b702aaf0434a90ae4ab2ec36b91428",
       "version_major": 2,
       "version_minor": 0
      },
      "text/plain": [
       "  0%|          | 0/1875 [00:00<?, ?it/s]"
      ]
     },
     "metadata": {},
     "output_type": "display_data"
    },
    {
     "name": "stdout",
     "output_type": "stream",
     "text": [
      "Epoch [2/5], Iteration [100/1875], Loss:0.091\n",
      "Epoch [2/5], Iteration [200/1875], Loss:0.2211\n",
      "Epoch [2/5], Iteration [300/1875], Loss:0.23\n",
      "Epoch [2/5], Iteration [400/1875], Loss:0.2431\n",
      "Epoch [2/5], Iteration [500/1875], Loss:0.2398\n",
      "Epoch [2/5], Iteration [600/1875], Loss:0.1205\n",
      "Epoch [2/5], Iteration [700/1875], Loss:0.3048\n",
      "Epoch [2/5], Iteration [800/1875], Loss:0.0759\n",
      "Epoch [2/5], Iteration [900/1875], Loss:0.3526\n",
      "Epoch [2/5], Iteration [1000/1875], Loss:0.0955\n",
      "Epoch [2/5], Iteration [1100/1875], Loss:0.0907\n",
      "Epoch [2/5], Iteration [1200/1875], Loss:0.2603\n",
      "Epoch [2/5], Iteration [1300/1875], Loss:0.2311\n",
      "Epoch [2/5], Iteration [1400/1875], Loss:0.0679\n",
      "Epoch [2/5], Iteration [1500/1875], Loss:0.0438\n",
      "Epoch [2/5], Iteration [1600/1875], Loss:0.1476\n",
      "Epoch [2/5], Iteration [1700/1875], Loss:0.3182\n",
      "Epoch [2/5], Iteration [1800/1875], Loss:0.0804\n"
     ]
    },
    {
     "data": {
      "application/vnd.jupyter.widget-view+json": {
       "model_id": "0ac1d917bc6e4f5f91a36852496b54a5",
       "version_major": 2,
       "version_minor": 0
      },
      "text/plain": [
       "  0%|          | 0/1875 [00:00<?, ?it/s]"
      ]
     },
     "metadata": {},
     "output_type": "display_data"
    },
    {
     "name": "stdout",
     "output_type": "stream",
     "text": [
      "Epoch [3/5], Iteration [100/1875], Loss:0.2579\n",
      "Epoch [3/5], Iteration [200/1875], Loss:0.2091\n",
      "Epoch [3/5], Iteration [300/1875], Loss:0.0166\n",
      "Epoch [3/5], Iteration [400/1875], Loss:0.4589\n",
      "Epoch [3/5], Iteration [500/1875], Loss:0.0391\n",
      "Epoch [3/5], Iteration [600/1875], Loss:0.0643\n",
      "Epoch [3/5], Iteration [700/1875], Loss:0.069\n",
      "Epoch [3/5], Iteration [800/1875], Loss:0.3003\n",
      "Epoch [3/5], Iteration [900/1875], Loss:0.0553\n",
      "Epoch [3/5], Iteration [1000/1875], Loss:0.1624\n",
      "Epoch [3/5], Iteration [1100/1875], Loss:0.0685\n",
      "Epoch [3/5], Iteration [1200/1875], Loss:0.0349\n",
      "Epoch [3/5], Iteration [1300/1875], Loss:0.1371\n",
      "Epoch [3/5], Iteration [1400/1875], Loss:0.0236\n",
      "Epoch [3/5], Iteration [1500/1875], Loss:0.0636\n",
      "Epoch [3/5], Iteration [1600/1875], Loss:0.0294\n",
      "Epoch [3/5], Iteration [1700/1875], Loss:0.0172\n",
      "Epoch [3/5], Iteration [1800/1875], Loss:0.0139\n"
     ]
    },
    {
     "data": {
      "application/vnd.jupyter.widget-view+json": {
       "model_id": "120e304a1c0147849ac88f17cf689a57",
       "version_major": 2,
       "version_minor": 0
      },
      "text/plain": [
       "  0%|          | 0/1875 [00:00<?, ?it/s]"
      ]
     },
     "metadata": {},
     "output_type": "display_data"
    },
    {
     "name": "stdout",
     "output_type": "stream",
     "text": [
      "Epoch [4/5], Iteration [100/1875], Loss:0.0437\n",
      "Epoch [4/5], Iteration [200/1875], Loss:0.1545\n",
      "Epoch [4/5], Iteration [300/1875], Loss:0.0312\n",
      "Epoch [4/5], Iteration [400/1875], Loss:0.1172\n",
      "Epoch [4/5], Iteration [500/1875], Loss:0.2146\n",
      "Epoch [4/5], Iteration [600/1875], Loss:0.0277\n",
      "Epoch [4/5], Iteration [700/1875], Loss:0.1992\n",
      "Epoch [4/5], Iteration [800/1875], Loss:0.3594\n",
      "Epoch [4/5], Iteration [900/1875], Loss:0.0517\n",
      "Epoch [4/5], Iteration [1000/1875], Loss:0.1248\n",
      "Epoch [4/5], Iteration [1100/1875], Loss:0.0329\n",
      "Epoch [4/5], Iteration [1200/1875], Loss:0.2082\n",
      "Epoch [4/5], Iteration [1300/1875], Loss:0.0938\n",
      "Epoch [4/5], Iteration [1400/1875], Loss:0.0158\n",
      "Epoch [4/5], Iteration [1500/1875], Loss:0.0485\n",
      "Epoch [4/5], Iteration [1600/1875], Loss:0.0258\n",
      "Epoch [4/5], Iteration [1700/1875], Loss:0.0609\n",
      "Epoch [4/5], Iteration [1800/1875], Loss:0.0809\n"
     ]
    },
    {
     "data": {
      "application/vnd.jupyter.widget-view+json": {
       "model_id": "92b1549d801e49c0ad49d305f21778f9",
       "version_major": 2,
       "version_minor": 0
      },
      "text/plain": [
       "  0%|          | 0/1875 [00:00<?, ?it/s]"
      ]
     },
     "metadata": {},
     "output_type": "display_data"
    },
    {
     "name": "stdout",
     "output_type": "stream",
     "text": [
      "Epoch [5/5], Iteration [100/1875], Loss:0.0777\n",
      "Epoch [5/5], Iteration [200/1875], Loss:0.1029\n",
      "Epoch [5/5], Iteration [300/1875], Loss:0.0887\n",
      "Epoch [5/5], Iteration [400/1875], Loss:0.1561\n",
      "Epoch [5/5], Iteration [500/1875], Loss:0.1052\n",
      "Epoch [5/5], Iteration [600/1875], Loss:0.0127\n",
      "Epoch [5/5], Iteration [700/1875], Loss:0.0622\n",
      "Epoch [5/5], Iteration [800/1875], Loss:0.1989\n",
      "Epoch [5/5], Iteration [900/1875], Loss:0.0815\n",
      "Epoch [5/5], Iteration [1000/1875], Loss:0.0838\n",
      "Epoch [5/5], Iteration [1100/1875], Loss:0.0477\n",
      "Epoch [5/5], Iteration [1200/1875], Loss:0.0211\n",
      "Epoch [5/5], Iteration [1300/1875], Loss:0.0907\n",
      "Epoch [5/5], Iteration [1400/1875], Loss:0.0907\n",
      "Epoch [5/5], Iteration [1500/1875], Loss:0.0165\n",
      "Epoch [5/5], Iteration [1600/1875], Loss:0.0079\n",
      "Epoch [5/5], Iteration [1700/1875], Loss:0.0594\n",
      "Epoch [5/5], Iteration [1800/1875], Loss:0.0464\n"
     ]
    }
   ],
   "source": [
    "pgd_attack = PGD(model, eps=0.3, alpha=0.1, steps=10)\n",
    "fgsm_attack = FGSM(model, eps=0.3)\n",
    "\n",
    "num_batches = len(mnist_train_data) // train_batch_size\n",
    "num_epochs = 5\n",
    "loss_lst = []\n",
    "\n",
    "for epoch in range(num_epochs):\n",
    "    for itr, (batch_imgs, batch_labels) in enumerate(tqdm(trainloader)):\n",
    "        batch_imgs = batch_imgs.to(device)\n",
    "        batch_labels = batch_labels.to(device)\n",
    "        \n",
    "        batch_adv_imgs = pgd_attack(batch_imgs, batch_labels)\n",
    "        \n",
    "        X_train = torch.cat((batch_adv_imgs, batch_imgs), 0)   \n",
    "        Y_train_gt = torch.cat((batch_labels, batch_labels), 0)\n",
    "        Y_train_pred = model(X_train)\n",
    "\n",
    "        loss_val = loss(Y_train_pred, Y_train_gt)\n",
    "        \n",
    "        optimizer.zero_grad()\n",
    "        loss_val.backward()\n",
    "        optimizer.step()\n",
    "        \n",
    "        if (itr + 1) % 100 == 0:\n",
    "            print(\"Epoch [{}/{}], Iteration [{}/{}], Loss:{}\".format(epoch+1, num_epochs, \n",
    "                                                                        itr+1, num_batches, \n",
    "                                                                        round(loss_val.item(),4)))\n",
    "        \n",
    "        loss_lst.append(loss_val.item())"
   ]
  },
  {
   "cell_type": "code",
   "execution_count": 9,
   "id": "b88d9800",
   "metadata": {},
   "outputs": [
    {
     "data": {
      "image/png": "[encoded data removed]",
      "text/plain": [
       "<Figure size 720x504 with 1 Axes>"
      ]
     },
     "metadata": {
      "needs_background": "light"
     },
     "output_type": "display_data"
    }
   ],
   "source": [
    "plt.figure(figsize=(10,7))\n",
    "plt.plot(loss_lst)\n",
    "plt.xlabel(\"iteration\")\n",
    "plt.ylabel(\"objective function\")\n",
    "plt.grid()\n",
    "plt.show()"
   ]
  },
  {
   "cell_type": "markdown",
   "id": "b8171be9",
   "metadata": {},
   "source": [
    "### Test accuracy (standard clean)"
   ]
  },
  {
   "cell_type": "code",
   "execution_count": 10,
   "id": "4013d1a5",
   "metadata": {},
   "outputs": [
    {
     "data": {
      "application/vnd.jupyter.widget-view+json": {
       "model_id": "cf22eeb8f1ac455cb2812fe2938f4d50",
       "version_major": 2,
       "version_minor": 0
      },
      "text/plain": [
       "  0%|          | 0/313 [00:00<?, ?it/s]"
      ]
     },
     "metadata": {},
     "output_type": "display_data"
    },
    {
     "name": "stdout",
     "output_type": "stream",
     "text": [
      "Standard clean accuracy: 99.11 %\n"
     ]
    }
   ],
   "source": [
    "num_samples = 0\n",
    "num_corr_pred = 0\n",
    "model.eval()\n",
    "\n",
    "with torch.no_grad():\n",
    "    for itr, (batch_imgs, batch_labels) in enumerate(tqdm(testloader)):\n",
    "        X_test = batch_imgs.to(device)\n",
    "        Y_test_gt = batch_labels.to(device)\n",
    "\n",
    "        _, Y_test_pred = torch.max(model(X_test), dim=1)\n",
    "    #     print(Y_test_gt.shape, Y_test_pred.shape)\n",
    "\n",
    "        num_samples += batch_imgs.shape[0]\n",
    "        num_corr_pred += (Y_test_pred == Y_test_gt).sum()\n",
    "\n",
    "test_accuracy = round(100.0 * float(num_corr_pred) / num_samples, 4)\n",
    "print(\"Standard clean accuracy: {} %\".format(test_accuracy))"
   ]
  },
  {
   "cell_type": "markdown",
   "id": "b883e444",
   "metadata": {},
   "source": [
    "### Test accuracy (PGD attack)"
   ]
  },
  {
   "cell_type": "code",
   "execution_count": 11,
   "id": "0bb5ed64",
   "metadata": {},
   "outputs": [
    {
     "data": {
      "application/vnd.jupyter.widget-view+json": {
       "model_id": "d04af5cad472447eb28ffe2278d27419",
       "version_major": 2,
       "version_minor": 0
      },
      "text/plain": [
       "  0%|          | 0/313 [00:00<?, ?it/s]"
      ]
     },
     "metadata": {},
     "output_type": "display_data"
    },
    {
     "name": "stdout",
     "output_type": "stream",
     "text": [
      "Robust accuracy (PGD attack): 95.35 %\n"
     ]
    }
   ],
   "source": [
    "num_samples = 0\n",
    "num_corr_pred = 0\n",
    "model.eval()\n",
    "\n",
    "# with torch.no_grad():\n",
    "for itr, (batch_imgs, batch_labels) in enumerate(tqdm(testloader)):\n",
    "    batch_imgs = batch_imgs.to(device)\n",
    "    batch_labels = batch_labels.to(device)\n",
    "\n",
    "    X_test = pgd_attack(batch_imgs, batch_labels)\n",
    "    Y_test_gt = batch_labels\n",
    "\n",
    "    _, Y_test_pred = torch.max(model(X_test), dim=1)\n",
    "\n",
    "    num_samples += batch_imgs.shape[0]\n",
    "    num_corr_pred += (Y_test_pred == Y_test_gt).sum()\n",
    "\n",
    "test_accuracy = round(100.0 * float(num_corr_pred) / num_samples, 4)\n",
    "print(\"Robust accuracy (PGD attack): {} %\".format(test_accuracy))"
   ]
  },
  {
   "cell_type": "markdown",
   "id": "90f2ced8",
   "metadata": {},
   "source": [
    "### Test accuracy (FGSM attack)"
   ]
  },
  {
   "cell_type": "code",
   "execution_count": 12,
   "id": "72b1c0d5",
   "metadata": {},
   "outputs": [
    {
     "data": {
      "application/vnd.jupyter.widget-view+json": {
       "model_id": "74c1684a220740ce9d9606243ab5e3cc",
       "version_major": 2,
       "version_minor": 0
      },
      "text/plain": [
       "  0%|          | 0/313 [00:00<?, ?it/s]"
      ]
     },
     "metadata": {},
     "output_type": "display_data"
    },
    {
     "name": "stdout",
     "output_type": "stream",
     "text": [
      "Robust accuracy (FGSM attack): 96.91 %\n"
     ]
    }
   ],
   "source": [
    "num_samples = 0\n",
    "num_corr_pred = 0\n",
    "model.eval()\n",
    "\n",
    "# with torch.no_grad():\n",
    "for itr, (batch_imgs, batch_labels) in enumerate(tqdm(testloader)):\n",
    "    batch_imgs = batch_imgs.to(device)\n",
    "    batch_labels = batch_labels.to(device)\n",
    "#     print(batch_imgs.shape, batch_labels.shape)\n",
    "\n",
    "    X_test = fgsm_attack(batch_imgs, batch_labels)\n",
    "    Y_test_gt = batch_labels\n",
    "\n",
    "    _, Y_test_pred = torch.max(model(X_test), dim=1)\n",
    "\n",
    "    num_samples += batch_imgs.shape[0]\n",
    "    num_corr_pred += (Y_test_pred == Y_test_gt).sum()\n",
    "\n",
    "test_accuracy = round(100.0 * float(num_corr_pred) / num_samples, 4)\n",
    "print(\"Robust accuracy (FGSM attack): {} %\".format(test_accuracy))"
   ]
  },
  {
   "cell_type": "markdown",
   "id": "ef3c11d3",
   "metadata": {},
   "source": [
    "### Test accuracy (FGSM + PGD - attack)"
   ]
  },
  {
   "cell_type": "code",
   "execution_count": 14,
   "id": "2fe07688",
   "metadata": {},
   "outputs": [
    {
     "data": {
      "application/vnd.jupyter.widget-view+json": {
       "model_id": "c9b858b98fee45ee908c16d306ec9fc6",
       "version_major": 2,
       "version_minor": 0
      },
      "text/plain": [
       "  0%|          | 0/313 [00:00<?, ?it/s]"
      ]
     },
     "metadata": {},
     "output_type": "display_data"
    },
    {
     "name": "stdout",
     "output_type": "stream",
     "text": [
      "Robust accuracy (FGSM + PGD attack): 96.235 %\n"
     ]
    }
   ],
   "source": [
    "num_samples = 0\n",
    "num_corr_pred = 0\n",
    "model.eval()\n",
    "\n",
    "for itr, (batch_imgs, batch_labels) in enumerate(tqdm(testloader)):\n",
    "    batch_imgs = batch_imgs.to(device)\n",
    "    batch_labels = batch_labels.to(device)\n",
    "    \n",
    "    X_adv_fgsm_imgs = fgsm_attack(batch_imgs, batch_labels)\n",
    "    X_adv_pgd_imgs = pgd_attack(batch_imgs, batch_labels)\n",
    "    \n",
    "    X_test = torch.cat((X_adv_fgsm_imgs, X_adv_pgd_imgs), 0)\n",
    "    Y_test_gt = torch.cat((batch_labels, batch_labels), 0)\n",
    "    \n",
    "    _, Y_test_pred = torch.max(model(X_test), dim=1)\n",
    "\n",
    "    num_samples += Y_test_gt.shape[0]\n",
    "    num_corr_pred += (Y_test_pred == Y_test_gt).sum()\n",
    "\n",
    "test_accuracy = round(100.0 * float(num_corr_pred) / num_samples, 4)\n",
    "print(\"Robust accuracy (FGSM + PGD attack): {} %\".format(test_accuracy))"
   ]
  }
 ],
 "metadata": {
  "kernelspec": {
   "display_name": "Python 3",
   "language": "python",
   "name": "python3"
  },
  "language_info": {
   "codemirror_mode": {
    "name": "ipython",
    "version": 3
   },
   "file_extension": ".py",
   "mimetype": "text/x-python",
   "name": "python",
   "nbconvert_exporter": "python",
   "pygments_lexer": "ipython3",
   "version": "3.9.5"
  }
 },
 "nbformat": 4,
 "nbformat_minor": 5
}
